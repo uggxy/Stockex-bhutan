{
 "cells": [
  {
   "cell_type": "code",
   "execution_count": 2,
   "id": "4ddbbd54",
   "metadata": {},
   "outputs": [
    {
     "name": "stdout",
     "output_type": "stream",
     "text": [
      "Requirement already satisfied: pandas in /Users/ugyen/anaconda3/envs/r-tensorflow/lib/python3.11/site-packages (2.2.3)\n",
      "Requirement already satisfied: plotly in /Users/ugyen/anaconda3/envs/r-tensorflow/lib/python3.11/site-packages (6.1.0)\n",
      "Requirement already satisfied: scikit-learn in /Users/ugyen/anaconda3/envs/r-tensorflow/lib/python3.11/site-packages (1.6.1)\n",
      "Requirement already satisfied: tensorflow in /Users/ugyen/anaconda3/envs/r-tensorflow/lib/python3.11/site-packages (2.16.2)\n",
      "Requirement already satisfied: matplotlib in /Users/ugyen/anaconda3/envs/r-tensorflow/lib/python3.11/site-packages (3.10.3)\n",
      "Requirement already satisfied: keras_tuner in /Users/ugyen/anaconda3/envs/r-tensorflow/lib/python3.11/site-packages (1.4.7)\n",
      "Requirement already satisfied: numpy>=1.23.2 in /Users/ugyen/anaconda3/envs/r-tensorflow/lib/python3.11/site-packages (from pandas) (1.26.4)\n",
      "Requirement already satisfied: python-dateutil>=2.8.2 in /Users/ugyen/anaconda3/envs/r-tensorflow/lib/python3.11/site-packages (from pandas) (2.9.0.post0)\n",
      "Requirement already satisfied: pytz>=2020.1 in /Users/ugyen/anaconda3/envs/r-tensorflow/lib/python3.11/site-packages (from pandas) (2025.2)\n",
      "Requirement already satisfied: tzdata>=2022.7 in /Users/ugyen/anaconda3/envs/r-tensorflow/lib/python3.11/site-packages (from pandas) (2025.2)\n",
      "Requirement already satisfied: narwhals>=1.15.1 in /Users/ugyen/anaconda3/envs/r-tensorflow/lib/python3.11/site-packages (from plotly) (1.39.0)\n",
      "Requirement already satisfied: packaging in /Users/ugyen/anaconda3/envs/r-tensorflow/lib/python3.11/site-packages (from plotly) (24.2)\n",
      "Requirement already satisfied: scipy>=1.6.0 in /Users/ugyen/anaconda3/envs/r-tensorflow/lib/python3.11/site-packages (from scikit-learn) (1.15.3)\n",
      "Requirement already satisfied: joblib>=1.2.0 in /Users/ugyen/anaconda3/envs/r-tensorflow/lib/python3.11/site-packages (from scikit-learn) (1.5.0)\n",
      "Requirement already satisfied: threadpoolctl>=3.1.0 in /Users/ugyen/anaconda3/envs/r-tensorflow/lib/python3.11/site-packages (from scikit-learn) (3.6.0)\n",
      "Requirement already satisfied: absl-py>=1.0.0 in /Users/ugyen/anaconda3/envs/r-tensorflow/lib/python3.11/site-packages (from tensorflow) (2.2.1)\n",
      "Requirement already satisfied: astunparse>=1.6.0 in /Users/ugyen/anaconda3/envs/r-tensorflow/lib/python3.11/site-packages (from tensorflow) (1.6.3)\n",
      "Requirement already satisfied: flatbuffers>=23.5.26 in /Users/ugyen/anaconda3/envs/r-tensorflow/lib/python3.11/site-packages (from tensorflow) (25.2.10)\n",
      "Requirement already satisfied: gast!=0.5.0,!=0.5.1,!=0.5.2,>=0.2.1 in /Users/ugyen/anaconda3/envs/r-tensorflow/lib/python3.11/site-packages (from tensorflow) (0.6.0)\n",
      "Requirement already satisfied: google-pasta>=0.1.1 in /Users/ugyen/anaconda3/envs/r-tensorflow/lib/python3.11/site-packages (from tensorflow) (0.2.0)\n",
      "Requirement already satisfied: h5py>=3.10.0 in /Users/ugyen/anaconda3/envs/r-tensorflow/lib/python3.11/site-packages (from tensorflow) (3.13.0)\n",
      "Requirement already satisfied: libclang>=13.0.0 in /Users/ugyen/anaconda3/envs/r-tensorflow/lib/python3.11/site-packages (from tensorflow) (18.1.1)\n",
      "Requirement already satisfied: ml-dtypes~=0.3.1 in /Users/ugyen/anaconda3/envs/r-tensorflow/lib/python3.11/site-packages (from tensorflow) (0.3.2)\n",
      "Requirement already satisfied: opt-einsum>=2.3.2 in /Users/ugyen/anaconda3/envs/r-tensorflow/lib/python3.11/site-packages (from tensorflow) (3.4.0)\n",
      "Requirement already satisfied: protobuf!=4.21.0,!=4.21.1,!=4.21.2,!=4.21.3,!=4.21.4,!=4.21.5,<5.0.0dev,>=3.20.3 in /Users/ugyen/anaconda3/envs/r-tensorflow/lib/python3.11/site-packages (from tensorflow) (4.25.6)\n",
      "Requirement already satisfied: requests<3,>=2.21.0 in /Users/ugyen/anaconda3/envs/r-tensorflow/lib/python3.11/site-packages (from tensorflow) (2.32.3)\n",
      "Requirement already satisfied: setuptools in /Users/ugyen/anaconda3/envs/r-tensorflow/lib/python3.11/site-packages (from tensorflow) (75.8.2)\n",
      "Requirement already satisfied: six>=1.12.0 in /Users/ugyen/anaconda3/envs/r-tensorflow/lib/python3.11/site-packages (from tensorflow) (1.17.0)\n",
      "Requirement already satisfied: termcolor>=1.1.0 in /Users/ugyen/anaconda3/envs/r-tensorflow/lib/python3.11/site-packages (from tensorflow) (2.5.0)\n",
      "Requirement already satisfied: typing-extensions>=3.6.6 in /Users/ugyen/anaconda3/envs/r-tensorflow/lib/python3.11/site-packages (from tensorflow) (4.13.2)\n",
      "Requirement already satisfied: wrapt>=1.11.0 in /Users/ugyen/anaconda3/envs/r-tensorflow/lib/python3.11/site-packages (from tensorflow) (1.17.2)\n",
      "Requirement already satisfied: grpcio<2.0,>=1.24.3 in /Users/ugyen/anaconda3/envs/r-tensorflow/lib/python3.11/site-packages (from tensorflow) (1.71.0)\n",
      "Requirement already satisfied: tensorboard<2.17,>=2.16 in /Users/ugyen/anaconda3/envs/r-tensorflow/lib/python3.11/site-packages (from tensorflow) (2.16.2)\n",
      "Requirement already satisfied: keras>=3.0.0 in /Users/ugyen/anaconda3/envs/r-tensorflow/lib/python3.11/site-packages (from tensorflow) (3.9.1)\n",
      "Requirement already satisfied: tensorflow-io-gcs-filesystem>=0.23.1 in /Users/ugyen/anaconda3/envs/r-tensorflow/lib/python3.11/site-packages (from tensorflow) (0.37.1)\n",
      "Requirement already satisfied: contourpy>=1.0.1 in /Users/ugyen/anaconda3/envs/r-tensorflow/lib/python3.11/site-packages (from matplotlib) (1.3.2)\n",
      "Requirement already satisfied: cycler>=0.10 in /Users/ugyen/anaconda3/envs/r-tensorflow/lib/python3.11/site-packages (from matplotlib) (0.12.1)\n",
      "Requirement already satisfied: fonttools>=4.22.0 in /Users/ugyen/anaconda3/envs/r-tensorflow/lib/python3.11/site-packages (from matplotlib) (4.58.0)\n",
      "Requirement already satisfied: kiwisolver>=1.3.1 in /Users/ugyen/anaconda3/envs/r-tensorflow/lib/python3.11/site-packages (from matplotlib) (1.4.8)\n",
      "Requirement already satisfied: pillow>=8 in /Users/ugyen/anaconda3/envs/r-tensorflow/lib/python3.11/site-packages (from matplotlib) (11.2.1)\n",
      "Requirement already satisfied: pyparsing>=2.3.1 in /Users/ugyen/anaconda3/envs/r-tensorflow/lib/python3.11/site-packages (from matplotlib) (3.2.3)\n",
      "Requirement already satisfied: kt-legacy in /Users/ugyen/anaconda3/envs/r-tensorflow/lib/python3.11/site-packages (from keras_tuner) (1.0.5)\n",
      "Requirement already satisfied: wheel<1.0,>=0.23.0 in /Users/ugyen/anaconda3/envs/r-tensorflow/lib/python3.11/site-packages (from astunparse>=1.6.0->tensorflow) (0.45.1)\n",
      "Requirement already satisfied: rich in /Users/ugyen/anaconda3/envs/r-tensorflow/lib/python3.11/site-packages (from keras>=3.0.0->tensorflow) (13.9.4)\n",
      "Requirement already satisfied: namex in /Users/ugyen/anaconda3/envs/r-tensorflow/lib/python3.11/site-packages (from keras>=3.0.0->tensorflow) (0.0.8)\n",
      "Requirement already satisfied: optree in /Users/ugyen/anaconda3/envs/r-tensorflow/lib/python3.11/site-packages (from keras>=3.0.0->tensorflow) (0.14.1)\n",
      "Requirement already satisfied: charset-normalizer<4,>=2 in /Users/ugyen/anaconda3/envs/r-tensorflow/lib/python3.11/site-packages (from requests<3,>=2.21.0->tensorflow) (3.4.1)\n",
      "Requirement already satisfied: idna<4,>=2.5 in /Users/ugyen/anaconda3/envs/r-tensorflow/lib/python3.11/site-packages (from requests<3,>=2.21.0->tensorflow) (3.10)\n",
      "Requirement already satisfied: urllib3<3,>=1.21.1 in /Users/ugyen/anaconda3/envs/r-tensorflow/lib/python3.11/site-packages (from requests<3,>=2.21.0->tensorflow) (2.3.0)\n",
      "Requirement already satisfied: certifi>=2017.4.17 in /Users/ugyen/anaconda3/envs/r-tensorflow/lib/python3.11/site-packages (from requests<3,>=2.21.0->tensorflow) (2025.1.31)\n",
      "Requirement already satisfied: markdown>=2.6.8 in /Users/ugyen/anaconda3/envs/r-tensorflow/lib/python3.11/site-packages (from tensorboard<2.17,>=2.16->tensorflow) (3.7)\n",
      "Requirement already satisfied: tensorboard-data-server<0.8.0,>=0.7.0 in /Users/ugyen/anaconda3/envs/r-tensorflow/lib/python3.11/site-packages (from tensorboard<2.17,>=2.16->tensorflow) (0.7.2)\n",
      "Requirement already satisfied: werkzeug>=1.0.1 in /Users/ugyen/anaconda3/envs/r-tensorflow/lib/python3.11/site-packages (from tensorboard<2.17,>=2.16->tensorflow) (3.1.3)\n",
      "Requirement already satisfied: MarkupSafe>=2.1.1 in /Users/ugyen/anaconda3/envs/r-tensorflow/lib/python3.11/site-packages (from werkzeug>=1.0.1->tensorboard<2.17,>=2.16->tensorflow) (3.0.2)\n",
      "Requirement already satisfied: markdown-it-py>=2.2.0 in /Users/ugyen/anaconda3/envs/r-tensorflow/lib/python3.11/site-packages (from rich->keras>=3.0.0->tensorflow) (3.0.0)\n",
      "Requirement already satisfied: pygments<3.0.0,>=2.13.0 in /Users/ugyen/anaconda3/envs/r-tensorflow/lib/python3.11/site-packages (from rich->keras>=3.0.0->tensorflow) (2.19.1)\n",
      "Requirement already satisfied: mdurl~=0.1 in /Users/ugyen/anaconda3/envs/r-tensorflow/lib/python3.11/site-packages (from markdown-it-py>=2.2.0->rich->keras>=3.0.0->tensorflow) (0.1.2)\n",
      "Note: you may need to restart the kernel to use updated packages.\n"
     ]
    }
   ],
   "source": [
    "# Install required packages\n",
    "%pip install pandas plotly scikit-learn tensorflow matplotlib keras_tuner\n",
    "\n"
   ]
  },
  {
   "cell_type": "code",
   "execution_count": 3,
   "id": "e4deb385",
   "metadata": {},
   "outputs": [
    {
     "name": "stderr",
     "output_type": "stream",
     "text": [
      "2025-05-26 12:47:25.798395: I tensorflow/core/platform/cpu_feature_guard.cc:210] This TensorFlow binary is optimized to use available CPU instructions in performance-critical operations.\n",
      "To enable the following instructions: AVX2 AVX512F AVX512_VNNI FMA, in other operations, rebuild TensorFlow with the appropriate compiler flags.\n"
     ]
    }
   ],
   "source": [
    "# Imports\n",
    "import pandas as pd\n",
    "import plotly.express as px\n",
    "import numpy as np\n",
    "import matplotlib.pyplot as plt\n",
    "from sklearn.preprocessing import MinMaxScaler \n",
    "from sklearn.model_selection import train_test_split\n",
    "from sklearn.metrics import mean_squared_error, mean_absolute_error, r2_score\n",
    "from tensorflow.keras.models import Sequential\n",
    "from tensorflow.keras.layers import Input, LSTM, Dense\n",
    "from tensorflow.keras.callbacks import EarlyStopping\n",
    "from tensorflow.keras.optimizers import Adam\n"
   ]
  },
  {
   "cell_type": "code",
   "execution_count": 4,
   "id": "75b0605c",
   "metadata": {},
   "outputs": [
    {
     "name": "stdout",
     "output_type": "stream",
     "text": [
      "                 DateTime    BTCL\n",
      "0     2020-04-23 06:34:02  158.45\n",
      "1     2020-04-23 09:34:02  158.45\n",
      "2     2020-04-24 06:34:01  158.45\n",
      "3     2020-04-24 09:34:02  158.45\n",
      "4     2020-04-27 06:33:57  158.45\n",
      "...                   ...     ...\n",
      "5899  2025-04-25 03:56:15  570.00\n",
      "5900  2025-04-25 04:56:11  570.00\n",
      "5901  2025-04-25 05:56:18  570.00\n",
      "5902  2025-04-25 07:56:13  570.00\n",
      "5903  2025-04-25 08:56:13  570.00\n",
      "\n",
      "[5904 rows x 2 columns]\n"
     ]
    }
   ],
   "source": [
    "# Load dataset (replace with actual path to your dataset)\n",
    "file_path = '/Users/ugyen/Documents/GitHub/Stockex-btn/chart.csv'\n",
    "df = pd.read_csv(file_path)\n",
    "\n",
    "# Preview the data\n",
    "print(df)"
   ]
  },
  {
   "cell_type": "code",
   "execution_count": 5,
   "id": "bd3b7c74",
   "metadata": {},
   "outputs": [
    {
     "name": "stdout",
     "output_type": "stream",
     "text": [
      "        DateTime    BTCL\n",
      "0     2020-04-23  158.45\n",
      "1     2020-04-24  158.45\n",
      "2     2020-04-27  158.45\n",
      "3     2020-04-28  158.45\n",
      "4     2020-04-29  158.45\n",
      "...          ...     ...\n",
      "1225  2025-04-21  570.00\n",
      "1226  2025-04-22  570.00\n",
      "1227  2025-04-23  570.00\n",
      "1228  2025-04-24  570.00\n",
      "1229  2025-04-25  570.00\n",
      "\n",
      "[1230 rows x 2 columns]\n",
      "Min value of BTCL stock: DateTime    2020-04-23\n",
      "BTCL              40.0\n",
      "dtype: object\n",
      "Max value of BTCL stock: DateTime    2025-04-25\n",
      "BTCL           1178.57\n",
      "dtype: object\n"
     ]
    }
   ],
   "source": [
    "# Convert to datetime and extract just the date\n",
    "df['DateTime'] = pd.to_datetime(df['DateTime']).dt.date\n",
    "\n",
    "# Keep the last record of each day\n",
    "daily_df = df.groupby('DateTime').last().reset_index()\n",
    "\n",
    "# Save the cleaned data\n",
    "daily_df.to_csv('cleaned_stock_data.csv', index=False)\n",
    "\n",
    "# Display the cleaned DataFrame and min/max values\n",
    "print(daily_df)\n",
    "print(\"Min value of BTCL stock:\", daily_df.min())\n",
    "print(\"Max value of BTCL stock:\", daily_df.max())\n"
   ]
  },
  {
   "cell_type": "code",
   "execution_count": 6,
   "id": "72a2c168",
   "metadata": {},
   "outputs": [
    {
     "data": {
      "text/plain": [
       "DateTime    0\n",
       "BTCL        0\n",
       "dtype: int64"
      ]
     },
     "execution_count": 6,
     "metadata": {},
     "output_type": "execute_result"
    }
   ],
   "source": [
    "#Checking if there is any missing values\n",
    "df.isna().sum()\n"
   ]
  },
  {
   "cell_type": "code",
   "execution_count": 7,
   "id": "a8356bd5",
   "metadata": {},
   "outputs": [
    {
     "data": {
      "text/html": [
       "<div>\n",
       "<style scoped>\n",
       "    .dataframe tbody tr th:only-of-type {\n",
       "        vertical-align: middle;\n",
       "    }\n",
       "\n",
       "    .dataframe tbody tr th {\n",
       "        vertical-align: top;\n",
       "    }\n",
       "\n",
       "    .dataframe thead th {\n",
       "        text-align: right;\n",
       "    }\n",
       "</style>\n",
       "<table border=\"1\" class=\"dataframe\">\n",
       "  <thead>\n",
       "    <tr style=\"text-align: right;\">\n",
       "      <th></th>\n",
       "      <th>BTCL</th>\n",
       "    </tr>\n",
       "  </thead>\n",
       "  <tbody>\n",
       "    <tr>\n",
       "      <th>count</th>\n",
       "      <td>1230.00</td>\n",
       "    </tr>\n",
       "    <tr>\n",
       "      <th>mean</th>\n",
       "      <td>541.98</td>\n",
       "    </tr>\n",
       "    <tr>\n",
       "      <th>std</th>\n",
       "      <td>319.02</td>\n",
       "    </tr>\n",
       "    <tr>\n",
       "      <th>min</th>\n",
       "      <td>40.00</td>\n",
       "    </tr>\n",
       "    <tr>\n",
       "      <th>25%</th>\n",
       "      <td>203.70</td>\n",
       "    </tr>\n",
       "    <tr>\n",
       "      <th>50%</th>\n",
       "      <td>650.00</td>\n",
       "    </tr>\n",
       "    <tr>\n",
       "      <th>75%</th>\n",
       "      <td>845.74</td>\n",
       "    </tr>\n",
       "    <tr>\n",
       "      <th>max</th>\n",
       "      <td>1178.57</td>\n",
       "    </tr>\n",
       "  </tbody>\n",
       "</table>\n",
       "</div>"
      ],
      "text/plain": [
       "          BTCL\n",
       "count  1230.00\n",
       "mean    541.98\n",
       "std     319.02\n",
       "min      40.00\n",
       "25%     203.70\n",
       "50%     650.00\n",
       "75%     845.74\n",
       "max    1178.57"
      ]
     },
     "execution_count": 7,
     "metadata": {},
     "output_type": "execute_result"
    }
   ],
   "source": [
    "daily_df.describe().round(2)"
   ]
  },
  {
   "cell_type": "code",
   "execution_count": 8,
   "id": "6af8e086",
   "metadata": {},
   "outputs": [
    {
     "data": {
      "application/vnd.plotly.v1+json": {
       "config": {
        "plotlyServerURL": "https://plot.ly"
       },
       "data": [
        {
         "hovertemplate": "<b>%{x|%Y-%m-%d}</b><br>Price: Nu.%{y:.2f}",
         "legendgroup": "",
         "line": {
          "color": "#636efa",
          "dash": "solid"
         },
         "marker": {
          "symbol": "circle"
         },
         "mode": "lines",
         "name": "",
         "showlegend": false,
         "type": "scattergl",
         "x": [
          "2020-04-23T00:00:00.000000000",
          "2020-04-24T00:00:00.000000000",
          "2020-04-27T00:00:00.000000000",
          "2020-04-28T00:00:00.000000000",
          "2020-04-29T00:00:00.000000000",
          "2020-04-30T00:00:00.000000000",
          "2020-05-01T00:00:00.000000000",
          "2020-05-04T00:00:00.000000000",
          "2020-05-05T00:00:00.000000000",
          "2020-05-06T00:00:00.000000000",
          "2020-05-07T00:00:00.000000000",
          "2020-05-08T00:00:00.000000000",
          "2020-05-11T00:00:00.000000000",
          "2020-05-12T00:00:00.000000000",
          "2020-05-13T00:00:00.000000000",
          "2020-05-14T00:00:00.000000000",
          "2020-05-15T00:00:00.000000000",
          "2020-05-18T00:00:00.000000000",
          "2020-05-19T00:00:00.000000000",
          "2020-05-20T00:00:00.000000000",
          "2020-05-21T00:00:00.000000000",
          "2020-05-22T00:00:00.000000000",
          "2020-05-25T00:00:00.000000000",
          "2020-05-26T00:00:00.000000000",
          "2020-05-27T00:00:00.000000000",
          "2020-05-28T00:00:00.000000000",
          "2020-05-29T00:00:00.000000000",
          "2020-06-01T00:00:00.000000000",
          "2020-06-02T00:00:00.000000000",
          "2020-06-03T00:00:00.000000000",
          "2020-06-04T00:00:00.000000000",
          "2020-06-08T00:00:00.000000000",
          "2020-06-09T00:00:00.000000000",
          "2020-06-10T00:00:00.000000000",
          "2020-06-11T00:00:00.000000000",
          "2020-06-12T00:00:00.000000000",
          "2020-06-15T00:00:00.000000000",
          "2020-06-16T00:00:00.000000000",
          "2020-06-17T00:00:00.000000000",
          "2020-06-18T00:00:00.000000000",
          "2020-06-19T00:00:00.000000000",
          "2020-06-22T00:00:00.000000000",
          "2020-06-23T00:00:00.000000000",
          "2020-06-24T00:00:00.000000000",
          "2020-06-25T00:00:00.000000000",
          "2020-06-26T00:00:00.000000000",
          "2020-06-29T00:00:00.000000000",
          "2020-07-01T00:00:00.000000000",
          "2020-07-02T00:00:00.000000000",
          "2020-07-03T00:00:00.000000000",
          "2020-07-06T00:00:00.000000000",
          "2020-07-07T00:00:00.000000000",
          "2020-07-08T00:00:00.000000000",
          "2020-07-09T00:00:00.000000000",
          "2020-07-10T00:00:00.000000000",
          "2020-07-13T00:00:00.000000000",
          "2020-07-14T00:00:00.000000000",
          "2020-07-15T00:00:00.000000000",
          "2020-07-16T00:00:00.000000000",
          "2020-07-17T00:00:00.000000000",
          "2020-07-20T00:00:00.000000000",
          "2020-07-21T00:00:00.000000000",
          "2020-07-22T00:00:00.000000000",
          "2020-07-23T00:00:00.000000000",
          "2020-07-27T00:00:00.000000000",
          "2020-07-28T00:00:00.000000000",
          "2020-07-29T00:00:00.000000000",
          "2020-07-30T00:00:00.000000000",
          "2020-07-31T00:00:00.000000000",
          "2020-08-03T00:00:00.000000000",
          "2020-08-04T00:00:00.000000000",
          "2020-08-05T00:00:00.000000000",
          "2020-08-06T00:00:00.000000000",
          "2020-08-07T00:00:00.000000000",
          "2020-08-10T00:00:00.000000000",
          "2020-08-11T00:00:00.000000000",
          "2020-08-12T00:00:00.000000000",
          "2020-08-13T00:00:00.000000000",
          "2020-08-14T00:00:00.000000000",
          "2020-08-17T00:00:00.000000000",
          "2020-08-18T00:00:00.000000000",
          "2020-08-19T00:00:00.000000000",
          "2020-08-20T00:00:00.000000000",
          "2020-08-21T00:00:00.000000000",
          "2020-08-24T00:00:00.000000000",
          "2020-08-25T00:00:00.000000000",
          "2020-08-26T00:00:00.000000000",
          "2020-08-27T00:00:00.000000000",
          "2020-08-28T00:00:00.000000000",
          "2020-08-31T00:00:00.000000000",
          "2020-09-01T00:00:00.000000000",
          "2020-09-02T00:00:00.000000000",
          "2020-09-03T00:00:00.000000000",
          "2020-09-04T00:00:00.000000000",
          "2020-09-07T00:00:00.000000000",
          "2020-09-08T00:00:00.000000000",
          "2020-09-09T00:00:00.000000000",
          "2020-09-10T00:00:00.000000000",
          "2020-09-11T00:00:00.000000000",
          "2020-09-14T00:00:00.000000000",
          "2020-09-15T00:00:00.000000000",
          "2020-09-16T00:00:00.000000000",
          "2020-09-17T00:00:00.000000000",
          "2020-09-18T00:00:00.000000000",
          "2020-09-21T00:00:00.000000000",
          "2020-09-24T00:00:00.000000000",
          "2020-09-25T00:00:00.000000000",
          "2020-09-29T00:00:00.000000000",
          "2020-09-30T00:00:00.000000000",
          "2020-10-01T00:00:00.000000000",
          "2020-10-02T00:00:00.000000000",
          "2020-10-05T00:00:00.000000000",
          "2020-10-06T00:00:00.000000000",
          "2020-10-07T00:00:00.000000000",
          "2020-10-08T00:00:00.000000000",
          "2020-10-09T00:00:00.000000000",
          "2020-10-12T00:00:00.000000000",
          "2020-10-13T00:00:00.000000000",
          "2020-10-14T00:00:00.000000000",
          "2020-10-15T00:00:00.000000000",
          "2020-10-16T00:00:00.000000000",
          "2020-10-19T00:00:00.000000000",
          "2020-10-20T00:00:00.000000000",
          "2020-10-21T00:00:00.000000000",
          "2020-10-22T00:00:00.000000000",
          "2020-10-23T00:00:00.000000000",
          "2020-10-27T00:00:00.000000000",
          "2020-10-28T00:00:00.000000000",
          "2020-10-29T00:00:00.000000000",
          "2020-10-30T00:00:00.000000000",
          "2020-11-02T00:00:00.000000000",
          "2020-11-03T00:00:00.000000000",
          "2020-11-04T00:00:00.000000000",
          "2020-11-05T00:00:00.000000000",
          "2020-11-06T00:00:00.000000000",
          "2020-11-09T00:00:00.000000000",
          "2020-11-10T00:00:00.000000000",
          "2020-11-12T00:00:00.000000000",
          "2020-11-13T00:00:00.000000000",
          "2020-11-16T00:00:00.000000000",
          "2020-11-17T00:00:00.000000000",
          "2020-11-18T00:00:00.000000000",
          "2020-11-19T00:00:00.000000000",
          "2020-11-20T00:00:00.000000000",
          "2020-11-23T00:00:00.000000000",
          "2020-11-24T00:00:00.000000000",
          "2020-11-25T00:00:00.000000000",
          "2020-11-26T00:00:00.000000000",
          "2020-11-27T00:00:00.000000000",
          "2020-11-30T00:00:00.000000000",
          "2020-12-01T00:00:00.000000000",
          "2020-12-02T00:00:00.000000000",
          "2020-12-03T00:00:00.000000000",
          "2020-12-04T00:00:00.000000000",
          "2020-12-07T00:00:00.000000000",
          "2020-12-08T00:00:00.000000000",
          "2020-12-09T00:00:00.000000000",
          "2020-12-10T00:00:00.000000000",
          "2020-12-11T00:00:00.000000000",
          "2020-12-14T00:00:00.000000000",
          "2020-12-15T00:00:00.000000000",
          "2020-12-16T00:00:00.000000000",
          "2020-12-18T00:00:00.000000000",
          "2020-12-21T00:00:00.000000000",
          "2020-12-22T00:00:00.000000000",
          "2020-12-23T00:00:00.000000000",
          "2020-12-24T00:00:00.000000000",
          "2020-12-25T00:00:00.000000000",
          "2020-12-28T00:00:00.000000000",
          "2020-12-29T00:00:00.000000000",
          "2020-12-30T00:00:00.000000000",
          "2020-12-31T00:00:00.000000000",
          "2021-01-01T00:00:00.000000000",
          "2021-01-04T00:00:00.000000000",
          "2021-01-05T00:00:00.000000000",
          "2021-01-06T00:00:00.000000000",
          "2021-01-07T00:00:00.000000000",
          "2021-01-08T00:00:00.000000000",
          "2021-01-11T00:00:00.000000000",
          "2021-01-12T00:00:00.000000000",
          "2021-01-13T00:00:00.000000000",
          "2021-01-15T00:00:00.000000000",
          "2021-01-18T00:00:00.000000000",
          "2021-01-19T00:00:00.000000000",
          "2021-01-20T00:00:00.000000000",
          "2021-01-21T00:00:00.000000000",
          "2021-01-22T00:00:00.000000000",
          "2021-01-25T00:00:00.000000000",
          "2021-01-26T00:00:00.000000000",
          "2021-01-27T00:00:00.000000000",
          "2021-01-28T00:00:00.000000000",
          "2021-01-29T00:00:00.000000000",
          "2021-02-01T00:00:00.000000000",
          "2021-02-02T00:00:00.000000000",
          "2021-02-03T00:00:00.000000000",
          "2021-02-04T00:00:00.000000000",
          "2021-02-05T00:00:00.000000000",
          "2021-02-08T00:00:00.000000000",
          "2021-02-09T00:00:00.000000000",
          "2021-02-10T00:00:00.000000000",
          "2021-02-11T00:00:00.000000000",
          "2021-02-15T00:00:00.000000000",
          "2021-02-16T00:00:00.000000000",
          "2021-02-17T00:00:00.000000000",
          "2021-02-18T00:00:00.000000000",
          "2021-02-19T00:00:00.000000000",
          "2021-02-24T00:00:00.000000000",
          "2021-02-25T00:00:00.000000000",
          "2021-02-26T00:00:00.000000000",
          "2021-03-01T00:00:00.000000000",
          "2021-03-02T00:00:00.000000000",
          "2021-03-03T00:00:00.000000000",
          "2021-03-04T00:00:00.000000000",
          "2021-03-05T00:00:00.000000000",
          "2021-03-08T00:00:00.000000000",
          "2021-03-09T00:00:00.000000000",
          "2021-03-10T00:00:00.000000000",
          "2021-03-11T00:00:00.000000000",
          "2021-03-12T00:00:00.000000000",
          "2021-03-15T00:00:00.000000000",
          "2021-03-16T00:00:00.000000000",
          "2021-03-17T00:00:00.000000000",
          "2021-03-18T00:00:00.000000000",
          "2021-03-19T00:00:00.000000000",
          "2021-03-22T00:00:00.000000000",
          "2021-03-23T00:00:00.000000000",
          "2021-03-24T00:00:00.000000000",
          "2021-03-25T00:00:00.000000000",
          "2021-03-26T00:00:00.000000000",
          "2021-03-29T00:00:00.000000000",
          "2021-03-30T00:00:00.000000000",
          "2021-03-31T00:00:00.000000000",
          "2021-04-01T00:00:00.000000000",
          "2021-04-02T00:00:00.000000000",
          "2021-04-05T00:00:00.000000000",
          "2021-04-06T00:00:00.000000000",
          "2021-04-07T00:00:00.000000000",
          "2021-04-08T00:00:00.000000000",
          "2021-04-09T00:00:00.000000000",
          "2021-04-12T00:00:00.000000000",
          "2021-04-13T00:00:00.000000000",
          "2021-04-14T00:00:00.000000000",
          "2021-04-15T00:00:00.000000000",
          "2021-04-16T00:00:00.000000000",
          "2021-04-19T00:00:00.000000000",
          "2021-04-20T00:00:00.000000000",
          "2021-04-21T00:00:00.000000000",
          "2021-04-23T00:00:00.000000000",
          "2021-04-26T00:00:00.000000000",
          "2021-04-27T00:00:00.000000000",
          "2021-04-29T00:00:00.000000000",
          "2021-04-30T00:00:00.000000000",
          "2021-05-03T00:00:00.000000000",
          "2021-05-04T00:00:00.000000000",
          "2021-05-05T00:00:00.000000000",
          "2021-05-06T00:00:00.000000000",
          "2021-05-07T00:00:00.000000000",
          "2021-05-10T00:00:00.000000000",
          "2021-05-11T00:00:00.000000000",
          "2021-05-12T00:00:00.000000000",
          "2021-05-13T00:00:00.000000000",
          "2021-05-14T00:00:00.000000000",
          "2021-05-17T00:00:00.000000000",
          "2021-05-18T00:00:00.000000000",
          "2021-05-19T00:00:00.000000000",
          "2021-05-20T00:00:00.000000000",
          "2021-05-21T00:00:00.000000000",
          "2021-05-24T00:00:00.000000000",
          "2021-05-25T00:00:00.000000000",
          "2021-05-27T00:00:00.000000000",
          "2021-05-28T00:00:00.000000000",
          "2021-05-31T00:00:00.000000000",
          "2021-06-01T00:00:00.000000000",
          "2021-06-02T00:00:00.000000000",
          "2021-06-03T00:00:00.000000000",
          "2021-06-04T00:00:00.000000000",
          "2021-06-07T00:00:00.000000000",
          "2021-06-08T00:00:00.000000000",
          "2021-06-09T00:00:00.000000000",
          "2021-06-10T00:00:00.000000000",
          "2021-06-11T00:00:00.000000000",
          "2021-06-14T00:00:00.000000000",
          "2021-06-15T00:00:00.000000000",
          "2021-06-16T00:00:00.000000000",
          "2021-06-17T00:00:00.000000000",
          "2021-06-18T00:00:00.000000000",
          "2021-06-21T00:00:00.000000000",
          "2021-06-22T00:00:00.000000000",
          "2021-06-23T00:00:00.000000000",
          "2021-06-24T00:00:00.000000000",
          "2021-06-25T00:00:00.000000000",
          "2021-06-28T00:00:00.000000000",
          "2021-06-29T00:00:00.000000000",
          "2021-06-30T00:00:00.000000000",
          "2021-07-01T00:00:00.000000000",
          "2021-07-02T00:00:00.000000000",
          "2021-07-05T00:00:00.000000000",
          "2021-07-06T00:00:00.000000000",
          "2021-07-07T00:00:00.000000000",
          "2021-07-08T00:00:00.000000000",
          "2021-07-09T00:00:00.000000000",
          "2021-07-12T00:00:00.000000000",
          "2021-07-13T00:00:00.000000000",
          "2021-07-15T00:00:00.000000000",
          "2021-07-16T00:00:00.000000000",
          "2021-07-19T00:00:00.000000000",
          "2021-07-20T00:00:00.000000000",
          "2021-07-21T00:00:00.000000000",
          "2021-07-22T00:00:00.000000000",
          "2021-07-23T00:00:00.000000000",
          "2021-07-26T00:00:00.000000000",
          "2021-07-27T00:00:00.000000000",
          "2021-07-28T00:00:00.000000000",
          "2021-07-29T00:00:00.000000000",
          "2021-07-30T00:00:00.000000000",
          "2021-08-02T00:00:00.000000000",
          "2021-08-03T00:00:00.000000000",
          "2021-08-04T00:00:00.000000000",
          "2021-08-05T00:00:00.000000000",
          "2021-08-06T00:00:00.000000000",
          "2021-08-09T00:00:00.000000000",
          "2021-08-10T00:00:00.000000000",
          "2021-08-11T00:00:00.000000000",
          "2021-08-12T00:00:00.000000000",
          "2021-08-13T00:00:00.000000000",
          "2021-08-16T00:00:00.000000000",
          "2021-08-17T00:00:00.000000000",
          "2021-08-18T00:00:00.000000000",
          "2021-08-19T00:00:00.000000000",
          "2021-08-20T00:00:00.000000000",
          "2021-08-23T00:00:00.000000000",
          "2021-08-24T00:00:00.000000000",
          "2021-08-25T00:00:00.000000000",
          "2021-08-26T00:00:00.000000000",
          "2021-08-27T00:00:00.000000000",
          "2021-08-30T00:00:00.000000000",
          "2021-08-31T00:00:00.000000000",
          "2021-09-01T00:00:00.000000000",
          "2021-09-02T00:00:00.000000000",
          "2021-09-03T00:00:00.000000000",
          "2021-09-06T00:00:00.000000000",
          "2021-09-07T00:00:00.000000000",
          "2021-09-08T00:00:00.000000000",
          "2021-09-09T00:00:00.000000000",
          "2021-09-10T00:00:00.000000000",
          "2021-09-13T00:00:00.000000000",
          "2021-09-14T00:00:00.000000000",
          "2021-09-15T00:00:00.000000000",
          "2021-09-20T00:00:00.000000000",
          "2021-09-21T00:00:00.000000000",
          "2021-09-22T00:00:00.000000000",
          "2021-09-23T00:00:00.000000000",
          "2021-09-24T00:00:00.000000000",
          "2021-09-27T00:00:00.000000000",
          "2021-09-28T00:00:00.000000000",
          "2021-09-29T00:00:00.000000000",
          "2021-09-30T00:00:00.000000000",
          "2021-10-01T00:00:00.000000000",
          "2021-10-04T00:00:00.000000000",
          "2021-10-05T00:00:00.000000000",
          "2021-10-06T00:00:00.000000000",
          "2021-10-07T00:00:00.000000000",
          "2021-10-08T00:00:00.000000000",
          "2021-10-11T00:00:00.000000000",
          "2021-10-12T00:00:00.000000000",
          "2021-10-13T00:00:00.000000000",
          "2021-10-14T00:00:00.000000000",
          "2021-10-18T00:00:00.000000000",
          "2021-10-19T00:00:00.000000000",
          "2021-10-20T00:00:00.000000000",
          "2021-10-21T00:00:00.000000000",
          "2021-10-22T00:00:00.000000000",
          "2021-10-25T00:00:00.000000000",
          "2021-10-26T00:00:00.000000000",
          "2021-10-28T00:00:00.000000000",
          "2021-10-29T00:00:00.000000000",
          "2021-11-02T00:00:00.000000000",
          "2021-11-03T00:00:00.000000000",
          "2021-11-04T00:00:00.000000000",
          "2021-11-05T00:00:00.000000000",
          "2021-11-08T00:00:00.000000000",
          "2021-11-09T00:00:00.000000000",
          "2021-11-10T00:00:00.000000000",
          "2021-11-12T00:00:00.000000000",
          "2021-11-15T00:00:00.000000000",
          "2021-11-16T00:00:00.000000000",
          "2021-11-17T00:00:00.000000000",
          "2021-11-18T00:00:00.000000000",
          "2021-11-19T00:00:00.000000000",
          "2021-11-22T00:00:00.000000000",
          "2021-11-23T00:00:00.000000000",
          "2021-11-24T00:00:00.000000000",
          "2021-11-25T00:00:00.000000000",
          "2021-11-26T00:00:00.000000000",
          "2021-11-29T00:00:00.000000000",
          "2021-11-30T00:00:00.000000000",
          "2021-12-01T00:00:00.000000000",
          "2021-12-02T00:00:00.000000000",
          "2021-12-03T00:00:00.000000000",
          "2021-12-06T00:00:00.000000000",
          "2021-12-07T00:00:00.000000000",
          "2021-12-08T00:00:00.000000000",
          "2021-12-09T00:00:00.000000000",
          "2021-12-10T00:00:00.000000000",
          "2021-12-13T00:00:00.000000000",
          "2021-12-14T00:00:00.000000000",
          "2021-12-15T00:00:00.000000000",
          "2021-12-16T00:00:00.000000000",
          "2021-12-20T00:00:00.000000000",
          "2021-12-21T00:00:00.000000000",
          "2021-12-23T00:00:00.000000000",
          "2021-12-24T00:00:00.000000000",
          "2021-12-27T00:00:00.000000000",
          "2021-12-28T00:00:00.000000000",
          "2021-12-29T00:00:00.000000000",
          "2021-12-30T00:00:00.000000000",
          "2021-12-31T00:00:00.000000000",
          "2022-01-03T00:00:00.000000000",
          "2022-01-04T00:00:00.000000000",
          "2022-01-05T00:00:00.000000000",
          "2022-01-06T00:00:00.000000000",
          "2022-01-07T00:00:00.000000000",
          "2022-01-10T00:00:00.000000000",
          "2022-01-11T00:00:00.000000000",
          "2022-01-12T00:00:00.000000000",
          "2022-01-13T00:00:00.000000000",
          "2022-01-14T00:00:00.000000000",
          "2022-01-17T00:00:00.000000000",
          "2022-01-18T00:00:00.000000000",
          "2022-01-19T00:00:00.000000000",
          "2022-01-20T00:00:00.000000000",
          "2022-01-21T00:00:00.000000000",
          "2022-01-24T00:00:00.000000000",
          "2022-01-25T00:00:00.000000000",
          "2022-01-26T00:00:00.000000000",
          "2022-01-27T00:00:00.000000000",
          "2022-01-28T00:00:00.000000000",
          "2022-01-31T00:00:00.000000000",
          "2022-02-01T00:00:00.000000000",
          "2022-02-03T00:00:00.000000000",
          "2022-02-04T00:00:00.000000000",
          "2022-02-07T00:00:00.000000000",
          "2022-02-08T00:00:00.000000000",
          "2022-02-09T00:00:00.000000000",
          "2022-02-10T00:00:00.000000000",
          "2022-02-11T00:00:00.000000000",
          "2022-02-14T00:00:00.000000000",
          "2022-02-15T00:00:00.000000000",
          "2022-02-16T00:00:00.000000000",
          "2022-02-17T00:00:00.000000000",
          "2022-02-18T00:00:00.000000000",
          "2022-02-24T00:00:00.000000000",
          "2022-02-25T00:00:00.000000000",
          "2022-02-28T00:00:00.000000000",
          "2022-03-01T00:00:00.000000000",
          "2022-03-02T00:00:00.000000000",
          "2022-03-07T00:00:00.000000000",
          "2022-03-08T00:00:00.000000000",
          "2022-03-09T00:00:00.000000000",
          "2022-03-10T00:00:00.000000000",
          "2022-03-11T00:00:00.000000000",
          "2022-03-14T00:00:00.000000000",
          "2022-03-15T00:00:00.000000000",
          "2022-03-16T00:00:00.000000000",
          "2022-03-17T00:00:00.000000000",
          "2022-03-18T00:00:00.000000000",
          "2022-03-21T00:00:00.000000000",
          "2022-03-22T00:00:00.000000000",
          "2022-03-23T00:00:00.000000000",
          "2022-03-24T00:00:00.000000000",
          "2022-03-25T00:00:00.000000000",
          "2022-03-28T00:00:00.000000000",
          "2022-03-29T00:00:00.000000000",
          "2022-03-30T00:00:00.000000000",
          "2022-03-31T00:00:00.000000000",
          "2022-04-01T00:00:00.000000000",
          "2022-04-04T00:00:00.000000000",
          "2022-04-05T00:00:00.000000000",
          "2022-04-06T00:00:00.000000000",
          "2022-04-07T00:00:00.000000000",
          "2022-04-08T00:00:00.000000000",
          "2022-04-11T00:00:00.000000000",
          "2022-04-12T00:00:00.000000000",
          "2022-04-13T00:00:00.000000000",
          "2022-04-14T00:00:00.000000000",
          "2022-04-15T00:00:00.000000000",
          "2022-04-18T00:00:00.000000000",
          "2022-04-19T00:00:00.000000000",
          "2022-04-20T00:00:00.000000000",
          "2022-04-21T00:00:00.000000000",
          "2022-04-22T00:00:00.000000000",
          "2022-04-25T00:00:00.000000000",
          "2022-04-26T00:00:00.000000000",
          "2022-04-27T00:00:00.000000000",
          "2022-04-28T00:00:00.000000000",
          "2022-04-29T00:00:00.000000000",
          "2022-05-03T00:00:00.000000000",
          "2022-05-04T00:00:00.000000000",
          "2022-05-05T00:00:00.000000000",
          "2022-05-06T00:00:00.000000000",
          "2022-05-09T00:00:00.000000000",
          "2022-05-10T00:00:00.000000000",
          "2022-05-12T00:00:00.000000000",
          "2022-05-13T00:00:00.000000000",
          "2022-05-16T00:00:00.000000000",
          "2022-05-17T00:00:00.000000000",
          "2022-05-18T00:00:00.000000000",
          "2022-05-19T00:00:00.000000000",
          "2022-05-20T00:00:00.000000000",
          "2022-05-23T00:00:00.000000000",
          "2022-05-24T00:00:00.000000000",
          "2022-05-25T00:00:00.000000000",
          "2022-05-26T00:00:00.000000000",
          "2022-05-27T00:00:00.000000000",
          "2022-05-30T00:00:00.000000000",
          "2022-05-31T00:00:00.000000000",
          "2022-06-01T00:00:00.000000000",
          "2022-06-02T00:00:00.000000000",
          "2022-06-03T00:00:00.000000000",
          "2022-06-06T00:00:00.000000000",
          "2022-06-07T00:00:00.000000000",
          "2022-06-08T00:00:00.000000000",
          "2022-06-09T00:00:00.000000000",
          "2022-06-10T00:00:00.000000000",
          "2022-06-13T00:00:00.000000000",
          "2022-06-15T00:00:00.000000000",
          "2022-06-16T00:00:00.000000000",
          "2022-06-17T00:00:00.000000000",
          "2022-06-20T00:00:00.000000000",
          "2022-06-21T00:00:00.000000000",
          "2022-06-22T00:00:00.000000000",
          "2022-06-23T00:00:00.000000000",
          "2022-06-24T00:00:00.000000000",
          "2022-06-27T00:00:00.000000000",
          "2022-06-28T00:00:00.000000000",
          "2022-06-29T00:00:00.000000000",
          "2022-06-30T00:00:00.000000000",
          "2022-07-01T00:00:00.000000000",
          "2022-07-04T00:00:00.000000000",
          "2022-07-05T00:00:00.000000000",
          "2022-07-06T00:00:00.000000000",
          "2022-07-07T00:00:00.000000000",
          "2022-07-08T00:00:00.000000000",
          "2022-07-11T00:00:00.000000000",
          "2022-07-12T00:00:00.000000000",
          "2022-07-13T00:00:00.000000000",
          "2022-07-14T00:00:00.000000000",
          "2022-07-15T00:00:00.000000000",
          "2022-07-18T00:00:00.000000000",
          "2022-07-19T00:00:00.000000000",
          "2022-07-20T00:00:00.000000000",
          "2022-07-21T00:00:00.000000000",
          "2022-07-22T00:00:00.000000000",
          "2022-07-25T00:00:00.000000000",
          "2022-07-26T00:00:00.000000000",
          "2022-07-27T00:00:00.000000000",
          "2022-07-28T00:00:00.000000000",
          "2022-07-29T00:00:00.000000000",
          "2022-08-02T00:00:00.000000000",
          "2022-08-03T00:00:00.000000000",
          "2022-08-04T00:00:00.000000000",
          "2022-08-05T00:00:00.000000000",
          "2022-08-08T00:00:00.000000000",
          "2022-08-09T00:00:00.000000000",
          "2022-08-10T00:00:00.000000000",
          "2022-08-11T00:00:00.000000000",
          "2022-08-12T00:00:00.000000000",
          "2022-08-15T00:00:00.000000000",
          "2022-08-16T00:00:00.000000000",
          "2022-08-17T00:00:00.000000000",
          "2022-08-18T00:00:00.000000000",
          "2022-08-19T00:00:00.000000000",
          "2022-08-22T00:00:00.000000000",
          "2022-08-23T00:00:00.000000000",
          "2022-08-24T00:00:00.000000000",
          "2022-08-25T00:00:00.000000000",
          "2022-08-26T00:00:00.000000000",
          "2022-08-29T00:00:00.000000000",
          "2022-08-30T00:00:00.000000000",
          "2022-08-31T00:00:00.000000000",
          "2022-09-01T00:00:00.000000000",
          "2022-09-02T00:00:00.000000000",
          "2022-09-05T00:00:00.000000000",
          "2022-09-06T00:00:00.000000000",
          "2022-09-07T00:00:00.000000000",
          "2022-09-08T00:00:00.000000000",
          "2022-09-09T00:00:00.000000000",
          "2022-09-12T00:00:00.000000000",
          "2022-09-13T00:00:00.000000000",
          "2022-09-14T00:00:00.000000000",
          "2022-09-15T00:00:00.000000000",
          "2022-09-16T00:00:00.000000000",
          "2022-09-19T00:00:00.000000000",
          "2022-09-20T00:00:00.000000000",
          "2022-09-21T00:00:00.000000000",
          "2022-09-22T00:00:00.000000000",
          "2022-09-26T00:00:00.000000000",
          "2022-09-27T00:00:00.000000000",
          "2022-09-28T00:00:00.000000000",
          "2022-09-29T00:00:00.000000000",
          "2022-10-03T00:00:00.000000000",
          "2022-10-07T00:00:00.000000000",
          "2022-10-10T00:00:00.000000000",
          "2022-10-11T00:00:00.000000000",
          "2022-10-12T00:00:00.000000000",
          "2022-10-13T00:00:00.000000000",
          "2022-10-14T00:00:00.000000000",
          "2022-10-17T00:00:00.000000000",
          "2022-10-18T00:00:00.000000000",
          "2022-10-19T00:00:00.000000000",
          "2022-10-20T00:00:00.000000000",
          "2022-10-21T00:00:00.000000000",
          "2022-10-24T00:00:00.000000000",
          "2022-10-25T00:00:00.000000000",
          "2022-10-26T00:00:00.000000000",
          "2022-10-27T00:00:00.000000000",
          "2022-10-28T00:00:00.000000000",
          "2022-10-31T00:00:00.000000000",
          "2022-11-02T00:00:00.000000000",
          "2022-11-03T00:00:00.000000000",
          "2022-11-04T00:00:00.000000000",
          "2022-11-07T00:00:00.000000000",
          "2022-11-08T00:00:00.000000000",
          "2022-11-09T00:00:00.000000000",
          "2022-11-10T00:00:00.000000000",
          "2022-11-14T00:00:00.000000000",
          "2022-11-16T00:00:00.000000000",
          "2022-11-17T00:00:00.000000000",
          "2022-11-18T00:00:00.000000000",
          "2022-11-21T00:00:00.000000000",
          "2022-11-22T00:00:00.000000000",
          "2022-11-23T00:00:00.000000000",
          "2022-11-24T00:00:00.000000000",
          "2022-11-25T00:00:00.000000000",
          "2022-11-28T00:00:00.000000000",
          "2022-11-29T00:00:00.000000000",
          "2022-11-30T00:00:00.000000000",
          "2022-12-01T00:00:00.000000000",
          "2022-12-02T00:00:00.000000000",
          "2022-12-05T00:00:00.000000000",
          "2022-12-06T00:00:00.000000000",
          "2022-12-07T00:00:00.000000000",
          "2022-12-08T00:00:00.000000000",
          "2022-12-09T00:00:00.000000000",
          "2022-12-12T00:00:00.000000000",
          "2022-12-13T00:00:00.000000000",
          "2022-12-14T00:00:00.000000000",
          "2022-12-15T00:00:00.000000000",
          "2022-12-16T00:00:00.000000000",
          "2022-12-19T00:00:00.000000000",
          "2022-12-20T00:00:00.000000000",
          "2022-12-21T00:00:00.000000000",
          "2022-12-22T00:00:00.000000000",
          "2022-12-23T00:00:00.000000000",
          "2022-12-26T00:00:00.000000000",
          "2022-12-27T00:00:00.000000000",
          "2022-12-28T00:00:00.000000000",
          "2022-12-29T00:00:00.000000000",
          "2022-12-30T00:00:00.000000000",
          "2023-01-03T00:00:00.000000000",
          "2023-01-04T00:00:00.000000000",
          "2023-01-05T00:00:00.000000000",
          "2023-01-06T00:00:00.000000000",
          "2023-01-09T00:00:00.000000000",
          "2023-01-10T00:00:00.000000000",
          "2023-01-11T00:00:00.000000000",
          "2023-01-12T00:00:00.000000000",
          "2023-01-13T00:00:00.000000000",
          "2023-01-16T00:00:00.000000000",
          "2023-01-17T00:00:00.000000000",
          "2023-01-18T00:00:00.000000000",
          "2023-01-19T00:00:00.000000000",
          "2023-01-20T00:00:00.000000000",
          "2023-01-23T00:00:00.000000000",
          "2023-01-24T00:00:00.000000000",
          "2023-01-25T00:00:00.000000000",
          "2023-01-26T00:00:00.000000000",
          "2023-01-27T00:00:00.000000000",
          "2023-01-30T00:00:00.000000000",
          "2023-01-31T00:00:00.000000000",
          "2023-02-01T00:00:00.000000000",
          "2023-02-02T00:00:00.000000000",
          "2023-02-03T00:00:00.000000000",
          "2023-02-06T00:00:00.000000000",
          "2023-02-07T00:00:00.000000000",
          "2023-02-08T00:00:00.000000000",
          "2023-02-09T00:00:00.000000000",
          "2023-02-10T00:00:00.000000000",
          "2023-02-13T00:00:00.000000000",
          "2023-02-14T00:00:00.000000000",
          "2023-02-15T00:00:00.000000000",
          "2023-02-16T00:00:00.000000000",
          "2023-02-17T00:00:00.000000000",
          "2023-02-20T00:00:00.000000000",
          "2023-02-24T00:00:00.000000000",
          "2023-02-27T00:00:00.000000000",
          "2023-02-28T00:00:00.000000000",
          "2023-03-01T00:00:00.000000000",
          "2023-03-02T00:00:00.000000000",
          "2023-03-03T00:00:00.000000000",
          "2023-03-06T00:00:00.000000000",
          "2023-03-07T00:00:00.000000000",
          "2023-03-08T00:00:00.000000000",
          "2023-03-09T00:00:00.000000000",
          "2023-03-10T00:00:00.000000000",
          "2023-03-13T00:00:00.000000000",
          "2023-03-14T00:00:00.000000000",
          "2023-03-15T00:00:00.000000000",
          "2023-03-16T00:00:00.000000000",
          "2023-03-17T00:00:00.000000000",
          "2023-03-20T00:00:00.000000000",
          "2023-03-21T00:00:00.000000000",
          "2023-03-22T00:00:00.000000000",
          "2023-03-23T00:00:00.000000000",
          "2023-03-24T00:00:00.000000000",
          "2023-03-27T00:00:00.000000000",
          "2023-03-28T00:00:00.000000000",
          "2023-03-29T00:00:00.000000000",
          "2023-03-30T00:00:00.000000000",
          "2023-03-31T00:00:00.000000000",
          "2023-04-03T00:00:00.000000000",
          "2023-04-04T00:00:00.000000000",
          "2023-04-05T00:00:00.000000000",
          "2023-04-06T00:00:00.000000000",
          "2023-04-07T00:00:00.000000000",
          "2023-04-10T00:00:00.000000000",
          "2023-04-11T00:00:00.000000000",
          "2023-04-12T00:00:00.000000000",
          "2023-04-13T00:00:00.000000000",
          "2023-04-14T00:00:00.000000000",
          "2023-04-17T00:00:00.000000000",
          "2023-04-18T00:00:00.000000000",
          "2023-04-19T00:00:00.000000000",
          "2023-04-21T00:00:00.000000000",
          "2023-04-24T00:00:00.000000000",
          "2023-04-25T00:00:00.000000000",
          "2023-04-26T00:00:00.000000000",
          "2023-04-27T00:00:00.000000000",
          "2023-04-28T00:00:00.000000000",
          "2023-05-01T00:00:00.000000000",
          "2023-05-03T00:00:00.000000000",
          "2023-05-04T00:00:00.000000000",
          "2023-05-05T00:00:00.000000000",
          "2023-05-08T00:00:00.000000000",
          "2023-05-09T00:00:00.000000000",
          "2023-05-10T00:00:00.000000000",
          "2023-05-11T00:00:00.000000000",
          "2023-05-12T00:00:00.000000000",
          "2023-05-15T00:00:00.000000000",
          "2023-05-16T00:00:00.000000000",
          "2023-05-17T00:00:00.000000000",
          "2023-05-18T00:00:00.000000000",
          "2023-05-19T00:00:00.000000000",
          "2023-05-22T00:00:00.000000000",
          "2023-05-23T00:00:00.000000000",
          "2023-05-24T00:00:00.000000000",
          "2023-05-25T00:00:00.000000000",
          "2023-05-26T00:00:00.000000000",
          "2023-05-29T00:00:00.000000000",
          "2023-05-30T00:00:00.000000000",
          "2023-05-31T00:00:00.000000000",
          "2023-06-01T00:00:00.000000000",
          "2023-06-02T00:00:00.000000000",
          "2023-06-05T00:00:00.000000000",
          "2023-06-06T00:00:00.000000000",
          "2023-06-07T00:00:00.000000000",
          "2023-06-08T00:00:00.000000000",
          "2023-06-09T00:00:00.000000000",
          "2023-06-12T00:00:00.000000000",
          "2023-06-13T00:00:00.000000000",
          "2023-06-14T00:00:00.000000000",
          "2023-06-15T00:00:00.000000000",
          "2023-06-16T00:00:00.000000000",
          "2023-06-19T00:00:00.000000000",
          "2023-06-20T00:00:00.000000000",
          "2023-06-21T00:00:00.000000000",
          "2023-06-22T00:00:00.000000000",
          "2023-06-23T00:00:00.000000000",
          "2023-06-26T00:00:00.000000000",
          "2023-06-27T00:00:00.000000000",
          "2023-06-29T00:00:00.000000000",
          "2023-06-30T00:00:00.000000000",
          "2023-07-03T00:00:00.000000000",
          "2023-07-04T00:00:00.000000000",
          "2023-07-05T00:00:00.000000000",
          "2023-07-06T00:00:00.000000000",
          "2023-07-07T00:00:00.000000000",
          "2023-07-10T00:00:00.000000000",
          "2023-07-11T00:00:00.000000000",
          "2023-07-12T00:00:00.000000000",
          "2023-07-13T00:00:00.000000000",
          "2023-07-14T00:00:00.000000000",
          "2023-07-17T00:00:00.000000000",
          "2023-07-18T00:00:00.000000000",
          "2023-07-19T00:00:00.000000000",
          "2023-07-20T00:00:00.000000000",
          "2023-07-24T00:00:00.000000000",
          "2023-07-25T00:00:00.000000000",
          "2023-07-26T00:00:00.000000000",
          "2023-07-27T00:00:00.000000000",
          "2023-07-28T00:00:00.000000000",
          "2023-07-31T00:00:00.000000000",
          "2023-08-01T00:00:00.000000000",
          "2023-08-02T00:00:00.000000000",
          "2023-08-03T00:00:00.000000000",
          "2023-08-04T00:00:00.000000000",
          "2023-08-07T00:00:00.000000000",
          "2023-08-08T00:00:00.000000000",
          "2023-08-09T00:00:00.000000000",
          "2023-08-10T00:00:00.000000000",
          "2023-08-11T00:00:00.000000000",
          "2023-08-14T00:00:00.000000000",
          "2023-08-15T00:00:00.000000000",
          "2023-08-16T00:00:00.000000000",
          "2023-08-17T00:00:00.000000000",
          "2023-08-18T00:00:00.000000000",
          "2023-08-21T00:00:00.000000000",
          "2023-08-22T00:00:00.000000000",
          "2023-08-23T00:00:00.000000000",
          "2023-08-24T00:00:00.000000000",
          "2023-08-25T00:00:00.000000000",
          "2023-08-28T00:00:00.000000000",
          "2023-08-29T00:00:00.000000000",
          "2023-08-30T00:00:00.000000000",
          "2023-08-31T00:00:00.000000000",
          "2023-09-01T00:00:00.000000000",
          "2023-09-04T00:00:00.000000000",
          "2023-09-05T00:00:00.000000000",
          "2023-09-06T00:00:00.000000000",
          "2023-09-07T00:00:00.000000000",
          "2023-09-08T00:00:00.000000000",
          "2023-09-11T00:00:00.000000000",
          "2023-09-12T00:00:00.000000000",
          "2023-09-13T00:00:00.000000000",
          "2023-09-14T00:00:00.000000000",
          "2023-09-15T00:00:00.000000000",
          "2023-09-18T00:00:00.000000000",
          "2023-09-19T00:00:00.000000000",
          "2023-09-21T00:00:00.000000000",
          "2023-09-22T00:00:00.000000000",
          "2023-09-27T00:00:00.000000000",
          "2023-09-28T00:00:00.000000000",
          "2023-09-29T00:00:00.000000000",
          "2023-10-02T00:00:00.000000000",
          "2023-10-03T00:00:00.000000000",
          "2023-10-04T00:00:00.000000000",
          "2023-10-05T00:00:00.000000000",
          "2023-10-06T00:00:00.000000000",
          "2023-10-09T00:00:00.000000000",
          "2023-10-10T00:00:00.000000000",
          "2023-10-11T00:00:00.000000000",
          "2023-10-12T00:00:00.000000000",
          "2023-10-13T00:00:00.000000000",
          "2023-10-16T00:00:00.000000000",
          "2023-10-17T00:00:00.000000000",
          "2023-10-18T00:00:00.000000000",
          "2023-10-19T00:00:00.000000000",
          "2023-10-20T00:00:00.000000000",
          "2023-10-23T00:00:00.000000000",
          "2023-10-25T00:00:00.000000000",
          "2023-10-26T00:00:00.000000000",
          "2023-10-27T00:00:00.000000000",
          "2023-10-30T00:00:00.000000000",
          "2023-10-31T00:00:00.000000000",
          "2023-11-02T00:00:00.000000000",
          "2023-11-03T00:00:00.000000000",
          "2023-11-06T00:00:00.000000000",
          "2023-11-07T00:00:00.000000000",
          "2023-11-08T00:00:00.000000000",
          "2023-11-09T00:00:00.000000000",
          "2023-11-10T00:00:00.000000000",
          "2023-11-13T00:00:00.000000000",
          "2023-11-14T00:00:00.000000000",
          "2023-11-15T00:00:00.000000000",
          "2023-11-16T00:00:00.000000000",
          "2023-11-17T00:00:00.000000000",
          "2023-11-20T00:00:00.000000000",
          "2023-11-21T00:00:00.000000000",
          "2023-11-22T00:00:00.000000000",
          "2023-11-23T00:00:00.000000000",
          "2023-11-24T00:00:00.000000000",
          "2023-11-27T00:00:00.000000000",
          "2023-11-28T00:00:00.000000000",
          "2023-11-29T00:00:00.000000000",
          "2023-12-01T00:00:00.000000000",
          "2023-12-04T00:00:00.000000000",
          "2023-12-05T00:00:00.000000000",
          "2023-12-06T00:00:00.000000000",
          "2023-12-07T00:00:00.000000000",
          "2023-12-08T00:00:00.000000000",
          "2023-12-11T00:00:00.000000000",
          "2023-12-12T00:00:00.000000000",
          "2023-12-13T00:00:00.000000000",
          "2023-12-14T00:00:00.000000000",
          "2023-12-15T00:00:00.000000000",
          "2023-12-18T00:00:00.000000000",
          "2023-12-19T00:00:00.000000000",
          "2023-12-20T00:00:00.000000000",
          "2023-12-21T00:00:00.000000000",
          "2023-12-22T00:00:00.000000000",
          "2023-12-25T00:00:00.000000000",
          "2023-12-26T00:00:00.000000000",
          "2023-12-27T00:00:00.000000000",
          "2023-12-28T00:00:00.000000000",
          "2023-12-29T00:00:00.000000000",
          "2024-01-01T00:00:00.000000000",
          "2024-01-03T00:00:00.000000000",
          "2024-01-04T00:00:00.000000000",
          "2024-01-05T00:00:00.000000000",
          "2024-01-08T00:00:00.000000000",
          "2024-01-10T00:00:00.000000000",
          "2024-01-11T00:00:00.000000000",
          "2024-01-15T00:00:00.000000000",
          "2024-01-16T00:00:00.000000000",
          "2024-01-17T00:00:00.000000000",
          "2024-01-18T00:00:00.000000000",
          "2024-01-19T00:00:00.000000000",
          "2024-01-22T00:00:00.000000000",
          "2024-01-23T00:00:00.000000000",
          "2024-01-24T00:00:00.000000000",
          "2024-01-25T00:00:00.000000000",
          "2024-01-26T00:00:00.000000000",
          "2024-01-29T00:00:00.000000000",
          "2024-01-30T00:00:00.000000000",
          "2024-01-31T00:00:00.000000000",
          "2024-02-01T00:00:00.000000000",
          "2024-02-02T00:00:00.000000000",
          "2024-02-05T00:00:00.000000000",
          "2024-02-06T00:00:00.000000000",
          "2024-02-07T00:00:00.000000000",
          "2024-02-08T00:00:00.000000000",
          "2024-02-09T00:00:00.000000000",
          "2024-02-12T00:00:00.000000000",
          "2024-02-13T00:00:00.000000000",
          "2024-02-14T00:00:00.000000000",
          "2024-02-15T00:00:00.000000000",
          "2024-02-16T00:00:00.000000000",
          "2024-02-19T00:00:00.000000000",
          "2024-02-20T00:00:00.000000000",
          "2024-02-26T00:00:00.000000000",
          "2024-02-27T00:00:00.000000000",
          "2024-02-28T00:00:00.000000000",
          "2024-02-29T00:00:00.000000000",
          "2024-03-01T00:00:00.000000000",
          "2024-03-04T00:00:00.000000000",
          "2024-03-05T00:00:00.000000000",
          "2024-03-06T00:00:00.000000000",
          "2024-03-07T00:00:00.000000000",
          "2024-03-08T00:00:00.000000000",
          "2024-03-11T00:00:00.000000000",
          "2024-03-12T00:00:00.000000000",
          "2024-03-13T00:00:00.000000000",
          "2024-03-14T00:00:00.000000000",
          "2024-03-15T00:00:00.000000000",
          "2024-03-18T00:00:00.000000000",
          "2024-03-19T00:00:00.000000000",
          "2024-03-20T00:00:00.000000000",
          "2024-03-21T00:00:00.000000000",
          "2024-03-22T00:00:00.000000000",
          "2024-03-25T00:00:00.000000000",
          "2024-03-26T00:00:00.000000000",
          "2024-03-27T00:00:00.000000000",
          "2024-03-28T00:00:00.000000000",
          "2024-03-29T00:00:00.000000000",
          "2024-04-01T00:00:00.000000000",
          "2024-04-02T00:00:00.000000000",
          "2024-04-03T00:00:00.000000000",
          "2024-04-04T00:00:00.000000000",
          "2024-04-05T00:00:00.000000000",
          "2024-04-08T00:00:00.000000000",
          "2024-04-09T00:00:00.000000000",
          "2024-04-10T00:00:00.000000000",
          "2024-04-11T00:00:00.000000000",
          "2024-04-12T00:00:00.000000000",
          "2024-04-15T00:00:00.000000000",
          "2024-04-16T00:00:00.000000000",
          "2024-04-17T00:00:00.000000000",
          "2024-04-19T00:00:00.000000000",
          "2024-04-22T00:00:00.000000000",
          "2024-04-23T00:00:00.000000000",
          "2024-04-24T00:00:00.000000000",
          "2024-04-25T00:00:00.000000000",
          "2024-04-26T00:00:00.000000000",
          "2024-04-29T00:00:00.000000000",
          "2024-04-30T00:00:00.000000000",
          "2024-05-01T00:00:00.000000000",
          "2024-05-03T00:00:00.000000000",
          "2024-05-06T00:00:00.000000000",
          "2024-05-07T00:00:00.000000000",
          "2024-05-08T00:00:00.000000000",
          "2024-05-09T00:00:00.000000000",
          "2024-05-10T00:00:00.000000000",
          "2024-05-13T00:00:00.000000000",
          "2024-05-14T00:00:00.000000000",
          "2024-05-15T00:00:00.000000000",
          "2024-05-16T00:00:00.000000000",
          "2024-05-17T00:00:00.000000000",
          "2024-05-20T00:00:00.000000000",
          "2024-05-21T00:00:00.000000000",
          "2024-05-22T00:00:00.000000000",
          "2024-05-24T00:00:00.000000000",
          "2024-05-27T00:00:00.000000000",
          "2024-05-28T00:00:00.000000000",
          "2024-05-29T00:00:00.000000000",
          "2024-05-30T00:00:00.000000000",
          "2024-05-31T00:00:00.000000000",
          "2024-06-03T00:00:00.000000000",
          "2024-06-04T00:00:00.000000000",
          "2024-06-05T00:00:00.000000000",
          "2024-06-06T00:00:00.000000000",
          "2024-06-07T00:00:00.000000000",
          "2024-06-10T00:00:00.000000000",
          "2024-06-11T00:00:00.000000000",
          "2024-06-12T00:00:00.000000000",
          "2024-06-13T00:00:00.000000000",
          "2024-06-14T00:00:00.000000000",
          "2024-06-17T00:00:00.000000000",
          "2024-06-18T00:00:00.000000000",
          "2024-06-19T00:00:00.000000000",
          "2024-06-20T00:00:00.000000000",
          "2024-06-21T00:00:00.000000000",
          "2024-06-24T00:00:00.000000000",
          "2024-06-25T00:00:00.000000000",
          "2024-06-26T00:00:00.000000000",
          "2024-06-27T00:00:00.000000000",
          "2024-06-28T00:00:00.000000000",
          "2024-07-01T00:00:00.000000000",
          "2024-07-02T00:00:00.000000000",
          "2024-07-03T00:00:00.000000000",
          "2024-07-04T00:00:00.000000000",
          "2024-07-05T00:00:00.000000000",
          "2024-07-08T00:00:00.000000000",
          "2024-07-09T00:00:00.000000000",
          "2024-07-11T00:00:00.000000000",
          "2024-07-12T00:00:00.000000000",
          "2024-07-15T00:00:00.000000000",
          "2024-07-16T00:00:00.000000000",
          "2024-07-17T00:00:00.000000000",
          "2024-07-18T00:00:00.000000000",
          "2024-07-19T00:00:00.000000000",
          "2024-07-22T00:00:00.000000000",
          "2024-07-23T00:00:00.000000000",
          "2024-07-24T00:00:00.000000000",
          "2024-07-25T00:00:00.000000000",
          "2024-07-26T00:00:00.000000000",
          "2024-07-29T00:00:00.000000000",
          "2024-07-30T00:00:00.000000000",
          "2024-07-31T00:00:00.000000000",
          "2024-08-01T00:00:00.000000000",
          "2024-08-02T00:00:00.000000000",
          "2024-08-05T00:00:00.000000000",
          "2024-08-06T00:00:00.000000000",
          "2024-08-07T00:00:00.000000000",
          "2024-08-08T00:00:00.000000000",
          "2024-08-09T00:00:00.000000000",
          "2024-08-12T00:00:00.000000000",
          "2024-08-13T00:00:00.000000000",
          "2024-08-14T00:00:00.000000000",
          "2024-08-15T00:00:00.000000000",
          "2024-08-16T00:00:00.000000000",
          "2024-08-19T00:00:00.000000000",
          "2024-08-20T00:00:00.000000000",
          "2024-08-21T00:00:00.000000000",
          "2024-08-22T00:00:00.000000000",
          "2024-08-23T00:00:00.000000000",
          "2024-08-26T00:00:00.000000000",
          "2024-08-27T00:00:00.000000000",
          "2024-08-28T00:00:00.000000000",
          "2024-08-29T00:00:00.000000000",
          "2024-08-30T00:00:00.000000000",
          "2024-09-02T00:00:00.000000000",
          "2024-09-03T00:00:00.000000000",
          "2024-09-04T00:00:00.000000000",
          "2024-09-05T00:00:00.000000000",
          "2024-09-06T00:00:00.000000000",
          "2024-09-10T00:00:00.000000000",
          "2024-09-11T00:00:00.000000000",
          "2024-09-12T00:00:00.000000000",
          "2024-09-16T00:00:00.000000000",
          "2024-09-17T00:00:00.000000000",
          "2024-09-18T00:00:00.000000000",
          "2024-09-19T00:00:00.000000000",
          "2024-09-20T00:00:00.000000000",
          "2024-09-24T00:00:00.000000000",
          "2024-09-25T00:00:00.000000000",
          "2024-09-26T00:00:00.000000000",
          "2024-09-27T00:00:00.000000000",
          "2024-09-30T00:00:00.000000000",
          "2024-10-01T00:00:00.000000000",
          "2024-10-02T00:00:00.000000000",
          "2024-10-03T00:00:00.000000000",
          "2024-10-04T00:00:00.000000000",
          "2024-10-07T00:00:00.000000000",
          "2024-10-08T00:00:00.000000000",
          "2024-10-09T00:00:00.000000000",
          "2024-10-10T00:00:00.000000000",
          "2024-10-11T00:00:00.000000000",
          "2024-10-14T00:00:00.000000000",
          "2024-10-15T00:00:00.000000000",
          "2024-10-16T00:00:00.000000000",
          "2024-10-17T00:00:00.000000000",
          "2024-10-18T00:00:00.000000000",
          "2024-10-21T00:00:00.000000000",
          "2024-10-22T00:00:00.000000000",
          "2024-10-23T00:00:00.000000000",
          "2024-10-24T00:00:00.000000000",
          "2024-10-25T00:00:00.000000000",
          "2024-10-28T00:00:00.000000000",
          "2024-10-29T00:00:00.000000000",
          "2024-10-30T00:00:00.000000000",
          "2024-10-31T00:00:00.000000000",
          "2024-11-04T00:00:00.000000000",
          "2024-11-05T00:00:00.000000000",
          "2024-11-06T00:00:00.000000000",
          "2024-11-07T00:00:00.000000000",
          "2024-11-08T00:00:00.000000000",
          "2024-11-12T00:00:00.000000000",
          "2024-11-13T00:00:00.000000000",
          "2024-11-14T00:00:00.000000000",
          "2024-11-15T00:00:00.000000000",
          "2024-11-18T00:00:00.000000000",
          "2024-11-19T00:00:00.000000000",
          "2024-11-20T00:00:00.000000000",
          "2024-11-21T00:00:00.000000000",
          "2024-11-22T00:00:00.000000000",
          "2024-11-25T00:00:00.000000000",
          "2024-11-26T00:00:00.000000000",
          "2024-11-27T00:00:00.000000000",
          "2024-11-28T00:00:00.000000000",
          "2024-11-29T00:00:00.000000000",
          "2024-12-02T00:00:00.000000000",
          "2024-12-03T00:00:00.000000000",
          "2024-12-04T00:00:00.000000000",
          "2024-12-05T00:00:00.000000000",
          "2024-12-06T00:00:00.000000000",
          "2024-12-09T00:00:00.000000000",
          "2024-12-10T00:00:00.000000000",
          "2024-12-11T00:00:00.000000000",
          "2024-12-12T00:00:00.000000000",
          "2024-12-13T00:00:00.000000000",
          "2024-12-16T00:00:00.000000000",
          "2024-12-18T00:00:00.000000000",
          "2024-12-19T00:00:00.000000000",
          "2024-12-20T00:00:00.000000000",
          "2024-12-23T00:00:00.000000000",
          "2024-12-24T00:00:00.000000000",
          "2024-12-25T00:00:00.000000000",
          "2024-12-26T00:00:00.000000000",
          "2024-12-27T00:00:00.000000000",
          "2024-12-30T00:00:00.000000000",
          "2024-12-31T00:00:00.000000000",
          "2025-01-01T00:00:00.000000000",
          "2025-01-03T00:00:00.000000000",
          "2025-01-06T00:00:00.000000000",
          "2025-01-07T00:00:00.000000000",
          "2025-01-08T00:00:00.000000000",
          "2025-01-09T00:00:00.000000000",
          "2025-01-10T00:00:00.000000000",
          "2025-01-13T00:00:00.000000000",
          "2025-01-14T00:00:00.000000000",
          "2025-01-15T00:00:00.000000000",
          "2025-01-16T00:00:00.000000000",
          "2025-01-17T00:00:00.000000000",
          "2025-01-20T00:00:00.000000000",
          "2025-01-21T00:00:00.000000000",
          "2025-01-22T00:00:00.000000000",
          "2025-01-23T00:00:00.000000000",
          "2025-01-24T00:00:00.000000000",
          "2025-01-27T00:00:00.000000000",
          "2025-01-28T00:00:00.000000000",
          "2025-01-29T00:00:00.000000000",
          "2025-01-31T00:00:00.000000000",
          "2025-02-03T00:00:00.000000000",
          "2025-02-04T00:00:00.000000000",
          "2025-02-05T00:00:00.000000000",
          "2025-02-06T00:00:00.000000000",
          "2025-02-07T00:00:00.000000000",
          "2025-02-10T00:00:00.000000000",
          "2025-02-11T00:00:00.000000000",
          "2025-02-12T00:00:00.000000000",
          "2025-02-13T00:00:00.000000000",
          "2025-02-14T00:00:00.000000000",
          "2025-02-17T00:00:00.000000000",
          "2025-02-18T00:00:00.000000000",
          "2025-02-19T00:00:00.000000000",
          "2025-02-20T00:00:00.000000000",
          "2025-02-24T00:00:00.000000000",
          "2025-02-25T00:00:00.000000000",
          "2025-02-26T00:00:00.000000000",
          "2025-02-27T00:00:00.000000000",
          "2025-03-03T00:00:00.000000000",
          "2025-03-04T00:00:00.000000000",
          "2025-03-05T00:00:00.000000000",
          "2025-03-06T00:00:00.000000000",
          "2025-03-07T00:00:00.000000000",
          "2025-03-10T00:00:00.000000000",
          "2025-03-11T00:00:00.000000000",
          "2025-03-12T00:00:00.000000000",
          "2025-03-13T00:00:00.000000000",
          "2025-03-14T00:00:00.000000000",
          "2025-03-17T00:00:00.000000000",
          "2025-03-18T00:00:00.000000000",
          "2025-03-19T00:00:00.000000000",
          "2025-03-20T00:00:00.000000000",
          "2025-03-21T00:00:00.000000000",
          "2025-03-24T00:00:00.000000000",
          "2025-03-25T00:00:00.000000000",
          "2025-03-26T00:00:00.000000000",
          "2025-03-27T00:00:00.000000000",
          "2025-03-28T00:00:00.000000000",
          "2025-03-31T00:00:00.000000000",
          "2025-04-01T00:00:00.000000000",
          "2025-04-02T00:00:00.000000000",
          "2025-04-03T00:00:00.000000000",
          "2025-04-04T00:00:00.000000000",
          "2025-04-07T00:00:00.000000000",
          "2025-04-08T00:00:00.000000000",
          "2025-04-09T00:00:00.000000000",
          "2025-04-10T00:00:00.000000000",
          "2025-04-11T00:00:00.000000000",
          "2025-04-14T00:00:00.000000000",
          "2025-04-15T00:00:00.000000000",
          "2025-04-16T00:00:00.000000000",
          "2025-04-17T00:00:00.000000000",
          "2025-04-18T00:00:00.000000000",
          "2025-04-21T00:00:00.000000000",
          "2025-04-22T00:00:00.000000000",
          "2025-04-23T00:00:00.000000000",
          "2025-04-24T00:00:00.000000000",
          "2025-04-25T00:00:00.000000000"
         ],
         "xaxis": "x",
         "y": {
          "bdata": "ZmZmZmbOY0BmZmZmZs5jQGZmZmZmzmNAZmZmZmbOY0BmZmZmZs5jQGZmZmZmzmNAZmZmZmbOY0BmZmZmZs5jQGZmZmZmzmNAZmZmZmbOY0BmZmZmZs5jQGZmZmZmzmNAZmZmZmbOY0BmZmZmZs5jQGZmZmZmzmNAZmZmZmbOY0BmZmZmZs5jQGZmZmZmzmNAZmZmZmbOY0BmZmZmZs5jQGZmZmZmzmNAZmZmZmbOY0BmZmZmZs5jQGZmZmZmzmNAZmZmZmbOY0BmZmZmZs5jQGZmZmZmzmNAZmZmZmbOY0BmZmZmZs5jQGZmZmZmzmNAZmZmZmbOY0BmZmZmZs5jQGZmZmZmzmNAZmZmZmbOY0BmZmZmZs5jQGZmZmZmzmNAZmZmZmbOY0BmZmZmZs5jQGZmZmZmzmNAZmZmZmbOY0BmZmZmZs5jQGZmZmZmzmNAZmZmZmbOY0BmZmZmZs5jQGZmZmZmzmNAZmZmZmbOY0BmZmZmZs5jQGZmZmZmzmNAZmZmZmbOY0BmZmZmZs5jQGZmZmZmzmNAZmZmZmbOY0BmZmZmZs5jQGZmZmZmzmNAZmZmZmbOY0BmZmZmZs5jQGZmZmZmzmNAZmZmZmbOY0BmZmZmZs5jQGZmZmZmzmNAZmZmZmbOY0BmZmZmZs5jQGZmZmZmzmNAZmZmZmbOY0BmZmZmZs5jQGZmZmZmzmNAZmZmZmbOY0BmZmZmZs5jQGZmZmZmzmNAZmZmZmbOY0BmZmZmZs5jQGZmZmZmzmNAZmZmZmbOY0BmZmZmZs5jQGZmZmZmzmNAZmZmZmbOY0BmZmZmZs5jQGZmZmZmzmNAZmZmZmbOY0BmZmZmZs5jQGZmZmZmzmNAZmZmZmbOY0BmZmZmZs5jQGZmZmZmzmNAZmZmZmbOY0BmZmZmZs5jQGZmZmZmzmNAZmZmZmbOY0BmZmZmZs5jQGZmZmZmzmNAZmZmZmbOY0BmZmZmZs5jQGZmZmZmzmNAZmZmZmbOY0BmZmZmZs5jQGZmZmZmzmNAZmZmZmbOY0BmZmZmZs5jQGZmZmZmzmNAZmZmZmbOY0BmZmZmZs5jQGZmZmZmzmNAZmZmZmbOY0BmZmZmZs5jQGZmZmZmzmNAZmZmZmbOY0BmZmZmZs5jQGZmZmZmzmNAZmZmZmbOY0BmZmZmZs5jQGZmZmZmzmNAZmZmZmbOY0BmZmZmZs5jQD0K16NwdWRAPQrXo3B1ZEA9CtejcHVkQD0K16NwdWRAPQrXo3B1ZEA9CtejcHVkQD0K16NwdWRAPQrXo3B1ZEA9CtejcHVkQD0K16NwdWRAPQrXo3B1ZEA9CtejcHVkQD0K16NwdWRAPQrXo3B1ZEA9CtejcHVkQD0K16NwdWRAPQrXo3B1ZEA9CtejcHVkQD0K16NwdWRAPQrXo3B1ZEA9CtejcHVkQD0K16NwdWRAPQrXo3B1ZEA9CtejcHVkQD0K16NwdWRAPQrXo3B1ZEA9CtejcHVkQD0K16NwdWRAPQrXo3B1ZEA9CtejcHVkQD0K16NwdWRAPQrXo3B1ZEA9CtejcHVkQD0K16NwdWRAPQrXo3B1ZEA9CtejcHVkQD0K16NwdWRAPQrXo3B1ZEA9CtejcHVkQD0K16NwdWRAPQrXo3B1ZEA9CtejcHVkQD0K16NwdWRAPQrXo3B1ZEA9CtejcHVkQD0K16NwdWRAPQrXo3B1ZEA9CtejcHVkQD0K16NwdWRAPQrXo3B1ZEA9CtejcHVkQAAAAAAAAERAPQrXo3B1ZEA9CtejcHVkQD0K16NwdWRAPQrXo3B1ZEA9CtejcHVkQD0K16NwdWRAPQrXo3B1ZEA9CtejcHVkQClcj8L1yGRAKVyPwvXIZEApXI/C9chkQClcj8L1yGRAKVyPwvXIZEApXI/C9chkQClcj8L1yGRAKVyPwvXIZEApXI/C9chkQClcj8L1yGRAKVyPwvXIZEApXI/C9chkQClcj8L1yGRAKVyPwvXIZEApXI/C9chkQClcj8L1yGRAKVyPwvXIZEApXI/C9chkQClcj8L1yGRAKVyPwvXIZEApXI/C9chkQClcj8L1yGRAKVyPwvXIZEApXI/C9chkQClcj8L1yGRAKVyPwvXIZEApXI/C9chkQClcj8L1yGRAKVyPwvXIZEApXI/C9chkQClcj8L1yGRAKVyPwvXIZEApXI/C9chkQClcj8L1yGRAAAAAAADQZUBmZmZmZuZmQGZmZmZm5mZAZmZmZmbmZkBmZmZmZuZmQGZmZmZm5mZAZmZmZmbmZkBmZmZmZuZmQGZmZmZm5mZAZmZmZmbmZkBmZmZmZuZmQGZmZmZm5mZAZmZmZmbmZkBmZmZmZuZmQGZmZmZm5mZAZmZmZmbmZkBmZmZmZuZmQGZmZmZm5mZAZmZmZmbmZkBmZmZmZuZmQGZmZmZm5mZAZmZmZmbmZkBmZmZmZuZmQGZmZmZm5mZAZmZmZmbmZkBmZmZmZuZmQGZmZmZm5mZAZmZmZmbmZkBmZmZmZuZmQGZmZmZm5mZAZmZmZmbmZkDhehSuRwFmQOF6FK5HAWZA4XoUrkcBZkDhehSuRwFmQOF6FK5HAWZA4XoUrkcBZkDhehSuRwFmQOF6FK5HAWZA4XoUrkcBZkDhehSuRwFmQOF6FK5HAWZA4XoUrkcBZkDhehSuRwFmQOF6FK5HAWZA4XoUrkcBZkDhehSuRwFmQOF6FK5HAWZA4XoUrkcBZkDhehSuRwFmQOF6FK5HAWZA4XoUrkcBZkDhehSuRwFmQOF6FK5HAWZA4XoUrkcBZkDhehSuRwFmQOF6FK5HAWZA4XoUrkcBZkDhehSuRwFmQOF6FK5HAWZA4XoUrkcBZkDhehSuRwFmQOF6FK5HAWZA4XoUrkcBZkDhehSuRwFmQOF6FK5HAWZA4XoUrkcBZkDhehSuRwFmQOF6FK5HAWZA4XoUrkcBZkDhehSuRwFmQOF6FK5HAWZA4XoUrkcBZkDhehSuRwFmQOF6FK5HAWZA4XoUrkcBZkDhehSuRwFmQOF6FK5HAWZA4XoUrkcBZkCamZmZmRlnQJqZmZmZGWdAmpmZmZkZZ0CamZmZmRlnQJqZmZmZGWdAmpmZmZkZZ0CamZmZmRlnQJqZmZmZGWdAmpmZmZkZZ0CamZmZmRlnQJqZmZmZGWdAmpmZmZkZZ0CamZmZmRlnQJqZmZmZGWdAmpmZmZkZZ0CamZmZmRlnQJqZmZmZGWdAZmZmZmZ2aUBmZmZmZnZpQGZmZmZmdmlAZmZmZmZ2aUBmZmZmZnZpQGZmZmZmdmlAZmZmZmZ2aUBmZmZmZnZpQGZmZmZmdmlAZmZmZmZ2aUBmZmZmZnZpQGZmZmZmdmlAZmZmZmZ2aUBmZmZmZnZpQGZmZmZmdmlAZmZmZmZ2aUBmZmZmZnZpQGZmZmZmdmlAZmZmZmZ2aUBmZmZmZnZpQGZmZmZmdmlAZmZmZmZ2aUBmZmZmZnZpQGZmZmZmdmlAZmZmZmZ2aUBmZmZmZnZpQGZmZmZmdmlAZmZmZmZ2aUBmZmZmZnZpQGZmZmZmdmlAZmZmZmZ2aUBmZmZmZnZpQGZmZmZmdmlAZmZmZmZ2aUBmZmZmZnZpQGZmZmZmdmlAZmZmZmZ2aUBmZmZmZnZpQGZmZmZmdmlAZmZmZmZ2aUBmZmZmZnZpQGZmZmZmdmlAZmZmZmZ2aUBmZmZmZnZpQGZmZmZmdmlAZmZmZmZ2aUBmZmZmZnZpQGZmZmZmdmlAZmZmZmZ2aUBmZmZmZnZpQGZmZmZmdmlAZmZmZmZ2aUBmZmZmZnZpQGZmZmZmdmlAZmZmZmZ2aUBmZmZmZnZpQGZmZmZmdmlAZmZmZmZ2aUBmZmZmZnZpQGZmZmZmdmlAZmZmZmZ2aUBmZmZmZnZpQGZmZmZmdmlAZmZmZmZ2aUBmZmZmZnZpQGZmZmZmdmlAZmZmZmZ2aUBmZmZmZnZpQGZmZmZmdmlAZmZmZmZ2aUBmZmZmZnZpQGZmZmZmdmlAZmZmZmZ2aUBmZmZmZnZpQGZmZmZmdmlAZmZmZmZ2aUBmZmZmZnZpQGZmZmZmdmlAZmZmZmZ2aUBmZmZmZnZpQGZmZmZmdmlAZmZmZmZ2aUBmZmZmZnZpQGZmZmZmdmlAZmZmZmZ2aUBmZmZmZnZpQGZmZmZmdmlAZmZmZmZ2aUBmZmZmZnZpQGZmZmZmdmlAZmZmZmZ2aUBmZmZmZnZpQGZmZmZmdmlAZmZmZmZ2aUBmZmZmZnZpQGZmZmZmdmlAZmZmZmZ2aUBmZmZmZnZpQGZmZmZmdmlAZmZmZmZ2aUBmZmZmZnZpQGZmZmZmdmlAZmZmZmZ2aUBmZmZmZnZpQGZmZmZmdmlAZmZmZmZ2aUBmZmZmZnZpQGZmZmZmdmlAZmZmZmZ2aUBmZmZmZnZpQGZmZmZmdmlAZmZmZmZ2aUBmZmZmZnZpQGZmZmZmdmlAZmZmZmZ2aUBmZmZmZnZpQGZmZmZmdmlAZmZmZmZ2aUBmZmZmZnZpQGZmZmZmdmlAZmZmZmZ2aUBmZmZmZnZpQGZmZmZmdmlAMzMzMzO7akAzMzMzM7tqQDMzMzMzu2pAMzMzMzO7akAzMzMzM7tqQDMzMzMzu2pAMzMzMzO7akAzMzMzM7tqQDMzMzMzu2pAMzMzMzO7akAzMzMzM7tqQDMzMzMzu2pAMzMzMzO7akAzMzMzM7tqQDMzMzMzu2pAMzMzMzO7akAzMzMzM7tqQDMzMzMzu2pAMzMzMzO7akAzMzMzM7tqQDMzMzMzu2pAMzMzMzO7akDhehSuRxFsQOF6FK5HEWxA4XoUrkcRbEBxPQrXo3htQHE9CtejeG1AcT0K16N4bUBxPQrXo3htQFK4HoXr8W5AUrgehevxbkBSuB6F6/FuQFK4HoXr8W5A16NwPQo/cEDXo3A9Cj9wQNejcD0KP3BA16NwPQo/cEDXo3A9Cj9wQNejcD0KP3BA16NwPQoPcUAfhetRuM5yQB+F61G4znJAH4XrUbjOckAfhetRuM5yQB+F61G4znJAH4XrUbjOckAfhetRuM5yQB+F61G4znJAH4XrUbjOckAfhetRuM5yQB+F61G4znJAH4XrUbjOckAfhetRuM5yQB+F61G4znJAH4XrUbjOckDsUbgehb9zQOxRuB6Fv3NA7FG4HoW/c0DsUbgehb9zQOxRuB6Fv3NA7FG4HoW/c0DsUbgehb9zQOxRuB6Fv3NA7FG4HoW/c0C4HoXrUbx0QLgehetRvHRAuB6F61G8dEC4HoXrUbx0QLgehetRvHRAuB6F61G8dEC4HoXrUbx0QLgehetRvHRAuB6F61G8dEC4HoXrUbx0QLgehetRvHRAuB6F61G8dEC4HoXrUbx0QLgehetRvHRAuB6F61G8dEC4HoXrUbx0QLgehetRvHRAuB6F61G8dEC4HoXrUbx0QLgehetRvHRAuB6F61G8dEC4HoXrUbx0QLgehetRvHRAuB6F61G8dEC4HoXrUbx0QLgehetRvHRAuB6F61G8dEC4HoXrUbx0QLgehetRvHRAuB6F61G8dEC4HoXrUbx0QLgehetRvHRAuB6F61G8dEC4HoXrUbx0QLgehetRvHRAuB6F61G8dEC4HoXrUbx0QLgehetRvHRAuB6F61G8dEAUrkfhetx2QBSuR+F63HZAuB6F61E0eUDhehSuRy19QB+F61G4on5APQrXo3C7gUA9CtejcLuBQD0K16Nwu4FAPQrXo3C7gUAAAAAAAJyCQAAAAAAAioNAAAAAAACKg0AAAAAAAIqDQAAAAAAAioNAAAAAAACKg0AAAAAAAIqDQAAAAAAAioNAAAAAAACMg0AK16NwPYaEQArXo3A9hoRACtejcD2GhEApXI/C9YyFQBSuR+F6wodAFK5H4XrCh0AUrkfhesKHQAAAAAAAMopAAAAAAAAyikAAAAAAADKKQOF6FK5HgYtAj8L1KFzhjEAAAAAAAOCPQDMzMzMz149AMzMzMzPXj0AzMzMzM9ePQDMzMzMz149AzczMzMyJkUDhehSuR2qSQOF6FK5HapJAAAAAAAD6kUAAAAAAAPqRQAAAAAAA+pFAAAAAAAD6kUAAAAAAAPqRQAAAAAAA+pFAAAAAAAD6kUAAAAAAAPqRQAAAAAAA+pFAAAAAAAD6kUAAAAAAAPqRQAAAAAAA+pFAAAAAAAD6kUAAAAAAAPqRQAAAAAAA+pFAAAAAAAD6kUAAAAAAAPqRQAAAAAAA+pFAAAAAAAAUkUAAAAAAABSRQGZmZmZmOZBAZmZmZmY5kEBmZmZmZjmQQGZmZmZmOZBAZmZmZmY5kEBmZmZmZjmQQGZmZmZmOZBAZmZmZmY5kEBmZmZmZjmQQGZmZmZmOZBAZmZmZmY5kEBmZmZmZjmQQD0K16Nw045APQrXo3DTjkA9CtejcNOOQD0K16Nw045APQrXo3DTjkB7FK5H4UiNQHsUrkfhSI1AexSuR+FIjUB7FK5H4UiNQHsUrkfhSI1AexSuR+FIjUB7FK5H4UiNQHsUrkfhSI1AexSuR+FIjUB7FK5H4UiNQHsUrkfhSI1AexSuR+FIjUB7FK5H4UiNQHsUrkfhSI1AexSuR+FIjUB7FK5H4UiNQHsUrkfhSI1AexSuR+FIjUB7FK5H4UiNQHsUrkfhSI1AexSuR+FIjUB7FK5H4UiNQHsUrkfhSI1AexSuR+FIjUB7FK5H4UiNQHsUrkfhSI1AexSuR+FIjUB7FK5H4UiNQHsUrkfhSI1AexSuR+FIjUB7FK5H4UiNQHsUrkfhSI1AexSuR+FIjUB7FK5H4UiNQHsUrkfhSI1AexSuR+FIjUB7FK5H4UiNQHsUrkfhSI1AexSuR+FIjUB7FK5H4UiNQHsUrkfhSI1AexSuR+FIjUB7FK5H4UiNQHsUrkfhSI1AexSuR+FIjUB7FK5H4UiNQHsUrkfhSI1AexSuR+FIjUB7FK5H4UiNQHsUrkfhSI1AexSuR+FIjUB7FK5H4UiNQHsUrkfhSI1AexSuR+FIjUB7FK5H4UiNQHsUrkfhSI1AexSuR+FIjUB7FK5H4UiNQHsUrkfhSI1AexSuR+FIjUB7FK5H4UiNQHsUrkfhSI1AexSuR+FIjUB7FK5H4UiNQHsUrkfhSI1AexSuR+FIjUB7FK5H4UiNQHsUrkfhSI1AexSuR+FIjUB7FK5H4UiNQHsUrkfhSI1AexSuR+FIjUB7FK5H4UiNQHsUrkfhSI1AexSuR+FIjUB7FK5H4UiNQHsUrkfhSI1AexSuR+FIjUB7FK5H4UiNQHsUrkfhSI1AexSuR+FIjUB7FK5H4UiNQHsUrkfhSI1AexSuR+FIjUB7FK5H4UiNQHsUrkfhSI1AexSuR+FIjUB7FK5H4UiNQHsUrkfhSI1AexSuR+FIjUB7FK5H4UiNQHsUrkfhSI1AexSuR+FIjUB7FK5H4UiNQHsUrkfhSI1AexSuR+FIjUB7FK5H4UiNQHsUrkfhSI1AexSuR+FIjUB7FK5H4UiNQHsUrkfhSI1AexSuR+FIjUB7FK5H4UiNQAAAAAAA0otAAAAAAADSi0AAAAAAANKLQAAAAAAA0otAAAAAAADSi0AAAAAAANKLQAAAAAAA0otAAAAAAADSi0AAAAAAANKLQAAAAAAA0otAAAAAAADSi0AAAAAAANKLQAAAAAAA0otAAAAAAADSi0AAAAAAANKLQAAAAAAA0otAAAAAAADSi0AAAAAAANKLQAAAAAAA0otAAAAAAADSi0AAAAAAANKLQAAAAAAA0otAAAAAAADSi0AAAAAAANKLQAAAAAAA0otAAAAAAADSi0AAAAAAANKLQAAAAAAA0otAAAAAAADSi0AAAAAAANKLQAAAAAAA0otAAAAAAADSi0AAAAAAANKLQAAAAAAA0otAAAAAAADSi0AAAAAAANKLQAAAAAAA0otAAAAAAADSi0AAAAAAANKLQAAAAAAA0otAAAAAAADSi0AAAAAAANKLQAAAAAAA0otAAAAAAADSi0AAAAAAANKLQAAAAAAA0otAAAAAAADSi0AAAAAAANKLQAAAAAAA0otAAAAAAADSi0AAAAAAANKLQAAAAAAA0otAAAAAAADSi0AAAAAAANKLQAAAAAAA0otAAAAAAADSi0AAAAAAANKLQFK4HoXrbYpAUrgehettikBSuB6F622KQFK4HoXrbYpAUrgehettikBSuB6F622KQFK4HoXrbYpAUrgehettikBSuB6F622KQFK4HoXrbYpAUrgehettikBSuB6F622KQFK4HoXrbYpAUrgehettikBSuB6F622KQFK4HoXrbYpAUrgehettikBSuB6F622KQFK4HoXrbYpAUrgehettikBSuB6F622KQFK4HoXrbYpAUrgehettikBSuB6F622KQFK4HoXrbYpAUrgehettikBSuB6F622KQFK4HoXrbYpAUrgehettikBSuB6F622KQFK4HoXrbYpAUrgehettikBSuB6F622KQFK4HoXrbYpAUrgehettikBSuB6F622KQFK4HoXrbYpAUrgehettikBSuB6F622KQFK4HoXrbYpAUrgehettikBSuB6F622KQFK4HoXrbYpAUrgehettikBSuB6F622KQFK4HoXrbYpAUrgehettikBSuB6F622KQFK4HoXrbYpAUrgehettikBSuB6F622KQFK4HoXrbYpAUrgehettikBSuB6F622KQFK4HoXrbYpAUrgehettikBSuB6F622KQFK4HoXrbYpAUrgehettikBSuB6F622KQFK4HoXrbYpAUrgehettikDXo3A9CneGQNejcD0Kd4ZA16NwPQp3hkDXo3A9CneGQNejcD0Kd4ZA16NwPQp3hkDXo3A9CneGQNejcD0Kd4ZA16NwPQp3hkDXo3A9CneGQNejcD0Kd4ZA16NwPQp3hkDXo3A9CneGQNejcD0Kd4ZA16NwPQp3hkDXo3A9CneGQNejcD0Kd4ZA16NwPQp3hkDXo3A9CneGQNejcD0Kd4ZA16NwPQp3hkDXo3A9CneGQNejcD0Kd4ZA16NwPQp3hkDXo3A9CneGQNejcD0Kd4ZA16NwPQp3hkDXo3A9CneGQNejcD0Kd4ZA16NwPQp3hkDXo3A9CneGQNejcD0Kd4ZA16NwPQp3hkDXo3A9CneGQNejcD0Kd4ZA16NwPQp3hkDXo3A9CneGQNejcD0Kd4ZA16NwPQp3hkDXo3A9CneGQNejcD0Kd4ZA16NwPQp3hkDXo3A9CneGQNejcD0Kd4ZA16NwPQp3hkDXo3A9CneGQNejcD0Kd4ZA16NwPQp3hkDXo3A9CneGQNejcD0Kd4ZA16NwPQp3hkDXo3A9CneGQNejcD0Kd4ZA16NwPQp3hkDXo3A9CneGQNejcD0Kd4ZA16NwPQp3hkDXo3A9CneGQNejcD0Kd4ZA16NwPQp3hkDXo3A9CneGQNejcD0Kd4ZA16NwPQp3hkAAAAAAAFCEQAAAAAAAUIRAAAAAAABQhEAAAAAAAFCEQAAAAAAAUIRAAAAAAABQhEAAAAAAAFCEQAAAAAAAUIRAAAAAAABQhEAAAAAAAFCEQAAAAAAAUIRAAAAAAABQhEAAAAAAAFCEQAAAAAAAUIRAAAAAAABQhEAAAAAAAFCEQAAAAAAAUIRAAAAAAABQhEAAAAAAAFCEQAAAAAAAUIRAAAAAAABQhEAAAAAAAFCEQAAAAAAAUIRA9ihcj8LXhUD2KFyPwteFQPYoXI/C14VAAAAAAADghUAAAAAAAOCFQAAAAAAA4IVAAAAAAADghUAAAAAAAOCFQAAAAAAA4IVAAAAAAADghUAAAAAAAOCFQAAAAAAA4IVAAAAAAADghUAAAAAAAOCFQAAAAAAA4IVAAAAAAADghUAAAAAAAOCFQAAAAAAA4IVAAAAAAADghUAAAAAAAOCFQAAAAAAA4IVAAAAAAADghUAAAAAAAOCFQAAAAAAA4IVAAAAAAADghUAAAAAAAOCFQAAAAAAA4IVAAAAAAADghUAAAAAAAOCFQAAAAAAA4IVAAAAAAADghUAAAAAAAOCFQAAAAAAA4IVAAAAAAADghUAAAAAAAOCFQAAAAAAA4IVAAAAAAADghUAAAAAAAOCFQAAAAAAA4IVAAAAAAADghUAAAAAAAOCFQAAAAAAA4IVAAAAAAADghUAAAAAAAOCFQAAAAAAA4IVAAAAAAADghUAAAAAAAOCFQAAAAAAA4IVAAAAAAADghUAAAAAAAOCFQAAAAAAA4IVAAAAAAADghUAAAAAAAOCFQAAAAAAA4IVAAAAAAADghUAAAAAAAOCFQAAAAAAA4IVAAAAAAADghUAAAAAAAOCFQAAAAAAA4IVAAAAAAADghUAAAAAAAOCFQAAAAAAA4IVAAAAAAADghUAAAAAAAOCFQAAAAAAA4IVAAAAAAADghUAAAAAAAOCFQAAAAAAA4IVAAAAAAADghUAAAAAAAOCFQAAAAAAA4IVAAAAAAADghUAAAAAAAOCFQAAAAAAA4IVAAAAAAADghUAAAAAAAOCFQAAAAAAA4IVAAAAAAADghUAAAAAAAOCFQAAAAAAA4IVAAAAAAADghUAAAAAAAOCFQAAAAAAA4IVAAAAAAADghUAAAAAAAOCFQAAAAAAAKIlAAAAAAAAoiUAAAAAAACiJQAAAAAAAKIlAAAAAAAAoiUAAAAAAACiJQAAAAAAAKIlAAAAAAAAoiUAAAAAAACiJQAAAAAAAKIlAAAAAAADujEAAAAAAAO6MQAAAAAAA7oxAAAAAAADujEAAAAAAAO6MQAAAAAAA7oxAAAAAAADujEA9CtejcKKQQD0K16NwopBAPQrXo3CikEA9CtejcKKQQD0K16NwopBAPQrXo3CikEA9CtejcKKQQD0K16NwopBAPQrXo3CikEA9CtejcKKQQAAAAAAABJBAAAAAAAAEkEAAAAAAAASQQAAAAAAAoI5AAAAAAACgjkAAAAAAAKCOQAAAAAAAoI5AAAAAAACgjkAAAAAAAKCOQAAAAAAAoI5AAAAAAACgjkAAAAAAAKCOQAAAAAAAKI5AAAAAAAAojkAAAAAAACiOQAAAAAAA2I1AAAAAAADYjUAAAAAAALCNQAAAAAAAsI1AKVyPwvWWjEApXI/C9ZaMQClcj8L1loxAKVyPwvWWjEApXI/C9ZaMQClcj8L1loxAKVyPwvWWjEApXI/C9ZaMQClcj8L1loxAKVyPwvWWjEApXI/C9ZaMQAAAAAAAAIlAAAAAAAAAiUAAAAAAAACJQAAAAAAA6IVAAAAAAADohUAAAAAAAOiFQAAAAAAA6IVAAAAAAADohUAAAAAAAOiFQAAAAAAA6IVAcT0K16NYhEBxPQrXo1iEQHE9CtejWIRAcT0K16NYhEAAAAAAAGCHQAAAAAAAYIdA16NwPQpJhkAAAAAAAGCHQAAAAAAAYIdAAAAAAABgh0AAAAAAAGCHQAAAAAAAYIdAAAAAAABIh0AAAAAAAEiHQAAAAAAASIdAAAAAAABIh0AAAAAAAEiHQAAAAAAASIdAAAAAAABIh0AAAAAAAEiHQAAAAAAASIdAAAAAAADghUBcj8L1KGqHQFyPwvUoaodAXI/C9Shqh0Bcj8L1KGqHQFyPwvUoaodAAAAAAABgh0AAAAAAAGCHQAAAAAAAYIdAAAAAAABgh0AAAAAAAGCHQAAAAAAAYIdAAAAAAABgh0AAAAAAAGCHQAAAAAAAYIdAAAAAAABQh0AAAAAAAFCHQAAAAAAAUIdAAAAAAABQh0AAAAAAAFCHQHE9CtejnIZAcT0K16OchkBxPQrXo5yGQHE9CtejnIZAcT0K16OchkBxPQrXo5yGQHE9CtejnIZAexSuR+H4iEB7FK5H4fiIQHsUrkfh+IhAw/UoXI9qhkBI4XoUruuFQEjhehSu64VAAAAAAADghUAAAAAAAOCFQAAAAAAA4IVAAAAAAADghUAAAAAAAOCFQAAAAAAA4IVAAAAAAADghUAAAAAAAOCFQAAAAAAA4IVAAAAAAADghUAAAAAAAOCFQHE9Ctej3oVAcT0K16PehUBxPQrXo96FQHE9Ctej3oVAcT0K16PehUAAAAAAAOCFQAAAAAAA4IVAAAAAAADghUAAAAAAAOCFQAAAAAAA4IVAAAAAAADghUAAAAAAAOCFQAAAAAAA4IVAAAAAAADghUAAAAAAAOCFQAAAAAAA4IVAAAAAAABoh0AAAAAAAGiHQAAAAAAAaIdAAAAAAABoh0AAAAAAAGiHQAAAAAAAaIdAAAAAAABoh0AAAAAAADCGQAAAAAAA4IVAAAAAAADghUAAAAAAAOCFQAAAAAAA4IVAAAAAAADghUAAAAAAAOCFQAAAAAAA4IVAAAAAAADghUAAAAAAAOCFQAAAAAAA4IVAAAAAAABQhEAAAAAAAFCEQAAAAAAAUIRAAAAAAABQhEAAAAAAAFCEQAAAAAAAUIRAAAAAAABQhEAK16NwPWSFQArXo3A9ZIVACtejcD1khUAK16NwPWSFQArXo3A9ZIVACtejcD1khUAK16NwPWSFQArXo3A9ZIVAAAAAAABQhEAAAAAAAFCEQAAAAAAAUIRAAAAAAABQhEAAAAAAAFCEQAAAAAAAUIRAAAAAAABQhEAAAAAAAFCEQAAAAAAAUIRAAAAAAABQhEAAAAAAAFCEQAAAAAAAUIRAAAAAAABQhEAAAAAAAFCEQAAAAAAAUIRAAAAAAADAgkAAAAAAAMCCQAAAAAAAwIJAAAAAAADAgkAAAAAAAMCCQAAAAAAAwIJAAAAAAADAgkAAAAAAAMCCQAAAAAAAwIJAAAAAAADAgkAAAAAAAMCCQAAAAAAAwIJAAAAAAADAgkAAAAAAAMCCQNejcD0KrYFA16NwPQqtgUDXo3A9Cq2BQNejcD0KrYFA16NwPQqtgUDXo3A9Cq2BQNejcD0KrYFA16NwPQqtgUDXo3A9Cq2BQNejcD0KrYFA16NwPQqtgUDXo3A9Cq2BQNejcD0KrYFA16NwPQqtgUAAAAAAANCBQAAAAAAA0IFAAAAAAADQgUAAAAAAANCBQAAAAAAA0IFAAAAAAADQgUAAAAAAANCBQAAAAAAA0IFA",
          "dtype": "f8"
         },
         "yaxis": "y"
        }
       ],
       "layout": {
        "hovermode": "y unified",
        "legend": {
         "tracegroupgap": 0
        },
        "template": {
         "data": {
          "bar": [
           {
            "error_x": {
             "color": "#2a3f5f"
            },
            "error_y": {
             "color": "#2a3f5f"
            },
            "marker": {
             "line": {
              "color": "white",
              "width": 0.5
             },
             "pattern": {
              "fillmode": "overlay",
              "size": 10,
              "solidity": 0.2
             }
            },
            "type": "bar"
           }
          ],
          "barpolar": [
           {
            "marker": {
             "line": {
              "color": "white",
              "width": 0.5
             },
             "pattern": {
              "fillmode": "overlay",
              "size": 10,
              "solidity": 0.2
             }
            },
            "type": "barpolar"
           }
          ],
          "carpet": [
           {
            "aaxis": {
             "endlinecolor": "#2a3f5f",
             "gridcolor": "#C8D4E3",
             "linecolor": "#C8D4E3",
             "minorgridcolor": "#C8D4E3",
             "startlinecolor": "#2a3f5f"
            },
            "baxis": {
             "endlinecolor": "#2a3f5f",
             "gridcolor": "#C8D4E3",
             "linecolor": "#C8D4E3",
             "minorgridcolor": "#C8D4E3",
             "startlinecolor": "#2a3f5f"
            },
            "type": "carpet"
           }
          ],
          "choropleth": [
           {
            "colorbar": {
             "outlinewidth": 0,
             "ticks": ""
            },
            "type": "choropleth"
           }
          ],
          "contour": [
           {
            "colorbar": {
             "outlinewidth": 0,
             "ticks": ""
            },
            "colorscale": [
             [
              0,
              "#0d0887"
             ],
             [
              0.1111111111111111,
              "#46039f"
             ],
             [
              0.2222222222222222,
              "#7201a8"
             ],
             [
              0.3333333333333333,
              "#9c179e"
             ],
             [
              0.4444444444444444,
              "#bd3786"
             ],
             [
              0.5555555555555556,
              "#d8576b"
             ],
             [
              0.6666666666666666,
              "#ed7953"
             ],
             [
              0.7777777777777778,
              "#fb9f3a"
             ],
             [
              0.8888888888888888,
              "#fdca26"
             ],
             [
              1,
              "#f0f921"
             ]
            ],
            "type": "contour"
           }
          ],
          "contourcarpet": [
           {
            "colorbar": {
             "outlinewidth": 0,
             "ticks": ""
            },
            "type": "contourcarpet"
           }
          ],
          "heatmap": [
           {
            "colorbar": {
             "outlinewidth": 0,
             "ticks": ""
            },
            "colorscale": [
             [
              0,
              "#0d0887"
             ],
             [
              0.1111111111111111,
              "#46039f"
             ],
             [
              0.2222222222222222,
              "#7201a8"
             ],
             [
              0.3333333333333333,
              "#9c179e"
             ],
             [
              0.4444444444444444,
              "#bd3786"
             ],
             [
              0.5555555555555556,
              "#d8576b"
             ],
             [
              0.6666666666666666,
              "#ed7953"
             ],
             [
              0.7777777777777778,
              "#fb9f3a"
             ],
             [
              0.8888888888888888,
              "#fdca26"
             ],
             [
              1,
              "#f0f921"
             ]
            ],
            "type": "heatmap"
           }
          ],
          "histogram": [
           {
            "marker": {
             "pattern": {
              "fillmode": "overlay",
              "size": 10,
              "solidity": 0.2
             }
            },
            "type": "histogram"
           }
          ],
          "histogram2d": [
           {
            "colorbar": {
             "outlinewidth": 0,
             "ticks": ""
            },
            "colorscale": [
             [
              0,
              "#0d0887"
             ],
             [
              0.1111111111111111,
              "#46039f"
             ],
             [
              0.2222222222222222,
              "#7201a8"
             ],
             [
              0.3333333333333333,
              "#9c179e"
             ],
             [
              0.4444444444444444,
              "#bd3786"
             ],
             [
              0.5555555555555556,
              "#d8576b"
             ],
             [
              0.6666666666666666,
              "#ed7953"
             ],
             [
              0.7777777777777778,
              "#fb9f3a"
             ],
             [
              0.8888888888888888,
              "#fdca26"
             ],
             [
              1,
              "#f0f921"
             ]
            ],
            "type": "histogram2d"
           }
          ],
          "histogram2dcontour": [
           {
            "colorbar": {
             "outlinewidth": 0,
             "ticks": ""
            },
            "colorscale": [
             [
              0,
              "#0d0887"
             ],
             [
              0.1111111111111111,
              "#46039f"
             ],
             [
              0.2222222222222222,
              "#7201a8"
             ],
             [
              0.3333333333333333,
              "#9c179e"
             ],
             [
              0.4444444444444444,
              "#bd3786"
             ],
             [
              0.5555555555555556,
              "#d8576b"
             ],
             [
              0.6666666666666666,
              "#ed7953"
             ],
             [
              0.7777777777777778,
              "#fb9f3a"
             ],
             [
              0.8888888888888888,
              "#fdca26"
             ],
             [
              1,
              "#f0f921"
             ]
            ],
            "type": "histogram2dcontour"
           }
          ],
          "mesh3d": [
           {
            "colorbar": {
             "outlinewidth": 0,
             "ticks": ""
            },
            "type": "mesh3d"
           }
          ],
          "parcoords": [
           {
            "line": {
             "colorbar": {
              "outlinewidth": 0,
              "ticks": ""
             }
            },
            "type": "parcoords"
           }
          ],
          "pie": [
           {
            "automargin": true,
            "type": "pie"
           }
          ],
          "scatter": [
           {
            "fillpattern": {
             "fillmode": "overlay",
             "size": 10,
             "solidity": 0.2
            },
            "type": "scatter"
           }
          ],
          "scatter3d": [
           {
            "line": {
             "colorbar": {
              "outlinewidth": 0,
              "ticks": ""
             }
            },
            "marker": {
             "colorbar": {
              "outlinewidth": 0,
              "ticks": ""
             }
            },
            "type": "scatter3d"
           }
          ],
          "scattercarpet": [
           {
            "marker": {
             "colorbar": {
              "outlinewidth": 0,
              "ticks": ""
             }
            },
            "type": "scattercarpet"
           }
          ],
          "scattergeo": [
           {
            "marker": {
             "colorbar": {
              "outlinewidth": 0,
              "ticks": ""
             }
            },
            "type": "scattergeo"
           }
          ],
          "scattergl": [
           {
            "marker": {
             "colorbar": {
              "outlinewidth": 0,
              "ticks": ""
             }
            },
            "type": "scattergl"
           }
          ],
          "scattermap": [
           {
            "marker": {
             "colorbar": {
              "outlinewidth": 0,
              "ticks": ""
             }
            },
            "type": "scattermap"
           }
          ],
          "scattermapbox": [
           {
            "marker": {
             "colorbar": {
              "outlinewidth": 0,
              "ticks": ""
             }
            },
            "type": "scattermapbox"
           }
          ],
          "scatterpolar": [
           {
            "marker": {
             "colorbar": {
              "outlinewidth": 0,
              "ticks": ""
             }
            },
            "type": "scatterpolar"
           }
          ],
          "scatterpolargl": [
           {
            "marker": {
             "colorbar": {
              "outlinewidth": 0,
              "ticks": ""
             }
            },
            "type": "scatterpolargl"
           }
          ],
          "scatterternary": [
           {
            "marker": {
             "colorbar": {
              "outlinewidth": 0,
              "ticks": ""
             }
            },
            "type": "scatterternary"
           }
          ],
          "surface": [
           {
            "colorbar": {
             "outlinewidth": 0,
             "ticks": ""
            },
            "colorscale": [
             [
              0,
              "#0d0887"
             ],
             [
              0.1111111111111111,
              "#46039f"
             ],
             [
              0.2222222222222222,
              "#7201a8"
             ],
             [
              0.3333333333333333,
              "#9c179e"
             ],
             [
              0.4444444444444444,
              "#bd3786"
             ],
             [
              0.5555555555555556,
              "#d8576b"
             ],
             [
              0.6666666666666666,
              "#ed7953"
             ],
             [
              0.7777777777777778,
              "#fb9f3a"
             ],
             [
              0.8888888888888888,
              "#fdca26"
             ],
             [
              1,
              "#f0f921"
             ]
            ],
            "type": "surface"
           }
          ],
          "table": [
           {
            "cells": {
             "fill": {
              "color": "#EBF0F8"
             },
             "line": {
              "color": "white"
             }
            },
            "header": {
             "fill": {
              "color": "#C8D4E3"
             },
             "line": {
              "color": "white"
             }
            },
            "type": "table"
           }
          ]
         },
         "layout": {
          "annotationdefaults": {
           "arrowcolor": "#2a3f5f",
           "arrowhead": 0,
           "arrowwidth": 1
          },
          "autotypenumbers": "strict",
          "coloraxis": {
           "colorbar": {
            "outlinewidth": 0,
            "ticks": ""
           }
          },
          "colorscale": {
           "diverging": [
            [
             0,
             "#8e0152"
            ],
            [
             0.1,
             "#c51b7d"
            ],
            [
             0.2,
             "#de77ae"
            ],
            [
             0.3,
             "#f1b6da"
            ],
            [
             0.4,
             "#fde0ef"
            ],
            [
             0.5,
             "#f7f7f7"
            ],
            [
             0.6,
             "#e6f5d0"
            ],
            [
             0.7,
             "#b8e186"
            ],
            [
             0.8,
             "#7fbc41"
            ],
            [
             0.9,
             "#4d9221"
            ],
            [
             1,
             "#276419"
            ]
           ],
           "sequential": [
            [
             0,
             "#0d0887"
            ],
            [
             0.1111111111111111,
             "#46039f"
            ],
            [
             0.2222222222222222,
             "#7201a8"
            ],
            [
             0.3333333333333333,
             "#9c179e"
            ],
            [
             0.4444444444444444,
             "#bd3786"
            ],
            [
             0.5555555555555556,
             "#d8576b"
            ],
            [
             0.6666666666666666,
             "#ed7953"
            ],
            [
             0.7777777777777778,
             "#fb9f3a"
            ],
            [
             0.8888888888888888,
             "#fdca26"
            ],
            [
             1,
             "#f0f921"
            ]
           ],
           "sequentialminus": [
            [
             0,
             "#0d0887"
            ],
            [
             0.1111111111111111,
             "#46039f"
            ],
            [
             0.2222222222222222,
             "#7201a8"
            ],
            [
             0.3333333333333333,
             "#9c179e"
            ],
            [
             0.4444444444444444,
             "#bd3786"
            ],
            [
             0.5555555555555556,
             "#d8576b"
            ],
            [
             0.6666666666666666,
             "#ed7953"
            ],
            [
             0.7777777777777778,
             "#fb9f3a"
            ],
            [
             0.8888888888888888,
             "#fdca26"
            ],
            [
             1,
             "#f0f921"
            ]
           ]
          },
          "colorway": [
           "#636efa",
           "#EF553B",
           "#00cc96",
           "#ab63fa",
           "#FFA15A",
           "#19d3f3",
           "#FF6692",
           "#B6E880",
           "#FF97FF",
           "#FECB52"
          ],
          "font": {
           "color": "#2a3f5f"
          },
          "geo": {
           "bgcolor": "white",
           "lakecolor": "white",
           "landcolor": "white",
           "showlakes": true,
           "showland": true,
           "subunitcolor": "#C8D4E3"
          },
          "hoverlabel": {
           "align": "left"
          },
          "hovermode": "closest",
          "mapbox": {
           "style": "light"
          },
          "paper_bgcolor": "white",
          "plot_bgcolor": "white",
          "polar": {
           "angularaxis": {
            "gridcolor": "#EBF0F8",
            "linecolor": "#EBF0F8",
            "ticks": ""
           },
           "bgcolor": "white",
           "radialaxis": {
            "gridcolor": "#EBF0F8",
            "linecolor": "#EBF0F8",
            "ticks": ""
           }
          },
          "scene": {
           "xaxis": {
            "backgroundcolor": "white",
            "gridcolor": "#DFE8F3",
            "gridwidth": 2,
            "linecolor": "#EBF0F8",
            "showbackground": true,
            "ticks": "",
            "zerolinecolor": "#EBF0F8"
           },
           "yaxis": {
            "backgroundcolor": "white",
            "gridcolor": "#DFE8F3",
            "gridwidth": 2,
            "linecolor": "#EBF0F8",
            "showbackground": true,
            "ticks": "",
            "zerolinecolor": "#EBF0F8"
           },
           "zaxis": {
            "backgroundcolor": "white",
            "gridcolor": "#DFE8F3",
            "gridwidth": 2,
            "linecolor": "#EBF0F8",
            "showbackground": true,
            "ticks": "",
            "zerolinecolor": "#EBF0F8"
           }
          },
          "shapedefaults": {
           "line": {
            "color": "#2a3f5f"
           }
          },
          "ternary": {
           "aaxis": {
            "gridcolor": "#DFE8F3",
            "linecolor": "#A2B1C6",
            "ticks": ""
           },
           "baxis": {
            "gridcolor": "#DFE8F3",
            "linecolor": "#A2B1C6",
            "ticks": ""
           },
           "bgcolor": "white",
           "caxis": {
            "gridcolor": "#DFE8F3",
            "linecolor": "#A2B1C6",
            "ticks": ""
           }
          },
          "title": {
           "x": 0.05
          },
          "xaxis": {
           "automargin": true,
           "gridcolor": "#EBF0F8",
           "linecolor": "#EBF0F8",
           "ticks": "",
           "title": {
            "standoff": 15
           },
           "zerolinecolor": "#EBF0F8",
           "zerolinewidth": 2
          },
          "yaxis": {
           "automargin": true,
           "gridcolor": "#EBF0F8",
           "linecolor": "#EBF0F8",
           "ticks": "",
           "title": {
            "standoff": 15
           },
           "zerolinecolor": "#EBF0F8",
           "zerolinewidth": 2
          }
         }
        },
        "title": {
         "text": "BTCL Price Over Time"
        },
        "xaxis": {
         "anchor": "y",
         "domain": [
          0,
          1
         ],
         "rangeslider": {
          "visible": true
         },
         "title": {
          "text": "Date"
         }
        },
        "yaxis": {
         "anchor": "x",
         "domain": [
          0,
          1
         ],
         "title": {
          "text": "BTCL Price (Ngultrum)"
         }
        }
       }
      }
     },
     "metadata": {},
     "output_type": "display_data"
    }
   ],
   "source": [
    "\n",
    "# Convert DateTime column to datetime type (if not already)\n",
    "daily_df['DateTime'] = pd.to_datetime(daily_df['DateTime'])\n",
    "\n",
    "# Create interactive plot\n",
    "fig = px.line(daily_df, \n",
    "              x='DateTime', \n",
    "              y='BTCL',\n",
    "              title='BTCL Price Over Time',\n",
    "              labels={'BTCL': 'Price (Ngultrum)', 'DateTime': 'Date'},\n",
    "              template='plotly_white')\n",
    "\n",
    "# Add customization\n",
    "fig.update_layout(\n",
    "    hovermode='y unified',  # Show hover data for all points on x-axis\n",
    "    xaxis_title='Date',\n",
    "    yaxis_title='BTCL Price (Ngultrum)',\n",
    "    \n",
    "    xaxis_rangeslider_visible=True  # Adds zoom slider at bottom\n",
    ")\n",
    "\n",
    "# Add hover data formatting\n",
    "fig.update_traces(\n",
    "    hovertemplate='<b>%{x|%Y-%m-%d}</b><br>Price: Nu.%{y:.2f}'\n",
    ")\n",
    "\n",
    "# Show the plot\n",
    "fig.show()"
   ]
  },
  {
   "cell_type": "code",
   "execution_count": 9,
   "id": "50b8034d",
   "metadata": {},
   "outputs": [
    {
     "name": "stdout",
     "output_type": "stream",
     "text": [
      "Min value after scaling: 0.0\n",
      "Max value after scaling: 1.0\n",
      "[[0.10403401]\n",
      " [0.10403401]\n",
      " [0.10403401]\n",
      " ...\n",
      " [0.46549619]\n",
      " [0.46549619]\n",
      " [0.46549619]]\n"
     ]
    }
   ],
   "source": [
    "# Use only 'Close' price for modeling, .reshape(-1, 1) converts a 1D array to 2D with one column.\n",
    "prices = daily_df['BTCL'].values.reshape(-1, 1)\n",
    "\n",
    "# MinMaxScaler class from scikit-learn's preprocessing module Normalizes the prices in [0, 1] range\n",
    "scaler = MinMaxScaler()\n",
    "scaled_prices = scaler.fit_transform(prices)\n",
    "\n",
    "#Displaying the normalised Data\n",
    "print(\"Min value after scaling:\", scaled_prices.min())\n",
    "print(\"Max value after scaling:\", scaled_prices.max())\n",
    "print(scaled_prices)"
   ]
  },
  {
   "cell_type": "code",
   "execution_count": 10,
   "id": "fdcfe192",
   "metadata": {},
   "outputs": [],
   "source": [
    "# Create sliding window features\n",
    "#For each day, it: X (Input): Stores the past window_size days (e.g., 60 days) as a \"window.\" y (Target): Stores the next day's price (what we want to predict).\n",
    "\n",
    "def create_dataset(data, window_size=60):\n",
    "    X, y = [], []\n",
    "    for i in range(window_size, len(data)):\n",
    "        X.append(data[i-window_size:i, 0])\n",
    "        y.append(data[i, 0])\n",
    "    return np.array(X), np.array(y)\n",
    "\n",
    "window_size = 60\n",
    "X, y = create_dataset(scaled_prices, window_size)\n",
    "\n",
    "# Reshape for LSTM input: [samples, time steps, features] since LSTMs (and most deep learning models for sequences) require input in 3 dimensions:\n",
    "X = X.reshape((X.shape[0], X.shape[1], 1))\n",
    "\n",
    "# Train-test split 80% Training: Used to teach the model. 20% Testing: Used to check if the model predicts well on unseen data.\n",
    "split = int(len(X) * 0.8)\n",
    "X_train, X_test = X[:split], X[split:]\n",
    "y_train, y_test = y[:split], y[split:]"
   ]
  },
  {
   "cell_type": "code",
   "execution_count": 11,
   "id": "451d8687",
   "metadata": {},
   "outputs": [
    {
     "name": "stdout",
     "output_type": "stream",
     "text": [
      "X shape: (1170, 60, 1)\n",
      "y shape: (1170,)\n",
      "First input sequence (X[0]): [0.10403401 0.10403401 0.10403401 0.10403401 0.10403401 0.10403401\n",
      " 0.10403401 0.10403401 0.10403401 0.10403401 0.10403401 0.10403401\n",
      " 0.10403401 0.10403401 0.10403401 0.10403401 0.10403401 0.10403401\n",
      " 0.10403401 0.10403401 0.10403401 0.10403401 0.10403401 0.10403401\n",
      " 0.10403401 0.10403401 0.10403401 0.10403401 0.10403401 0.10403401\n",
      " 0.10403401 0.10403401 0.10403401 0.10403401 0.10403401 0.10403401\n",
      " 0.10403401 0.10403401 0.10403401 0.10403401 0.10403401 0.10403401\n",
      " 0.10403401 0.10403401 0.10403401 0.10403401 0.10403401 0.10403401\n",
      " 0.10403401 0.10403401 0.10403401 0.10403401 0.10403401 0.10403401\n",
      " 0.10403401 0.10403401 0.10403401 0.10403401 0.10403401 0.10403401]\n",
      "First target value (y[0]): 0.10403400757090032\n",
      "LSTM-ready X shape: (1170, 60, 1)\n",
      "Last value in X_train: 0.5796745039830665\n",
      "First value in X_test: 0.5796745039830665\n"
     ]
    }
   ],
   "source": [
    "#Checks the dimensions of your input (X) and output (y) data.\n",
    "print(\"X shape:\", X.shape)  # Should be (n_samples, window_size, 1) after reshaping\n",
    "print(\"y shape:\", y.shape)  # Should be (n_samples,)\n",
    "\n",
    "# Peek at the first input-output pair\n",
    "print(\"First input sequence (X[0]):\", X[0].flatten())  # Flatten to print as 1D\n",
    "print(\"First target value (y[0]):\", y[0])\n",
    "\n",
    "#Confirms X is now in the correct 3D format for LSTMs.\n",
    "print(\"LSTM-ready X shape:\", X.shape)\n",
    "\n",
    "#Checking to see if no data leakage between train and test sets.\n",
    "print(\"Last value in X_train:\", X_train[-1].flatten()[-1])\n",
    "print(\"First value in X_test:\", X_test[0].flatten()[0])"
   ]
  },
  {
   "cell_type": "code",
   "execution_count": 12,
   "id": "9c6fcfd6",
   "metadata": {},
   "outputs": [
    {
     "name": "stderr",
     "output_type": "stream",
     "text": [
      "/var/folders/jf/by0f12_s5wj9dhck88jvygrw0000gn/T/ipykernel_11674/3434112173.py:22: DeprecationWarning:\n",
      "\n",
      "`import kerastuner` is deprecated, please use `import keras_tuner`.\n",
      "\n"
     ]
    },
    {
     "name": "stdout",
     "output_type": "stream",
     "text": [
      "Reloading Tuner from keras_tuner_dir/btcl_lstm_tuning/tuner0.json\n",
      "Best hyperparameters: {'units_1': 100, 'units_2': 100, 'learning_rate': 0.004733138904121268}\n",
      "Epoch 1/50\n"
     ]
    },
    {
     "name": "stderr",
     "output_type": "stream",
     "text": [
      "/Users/ugyen/anaconda3/envs/r-tensorflow/lib/python3.11/site-packages/keras/src/saving/saving_lib.py:757: UserWarning:\n",
      "\n",
      "Skipping variable loading for optimizer 'adam', because it has 2 variables whereas the saved optimizer has 18 variables. \n",
      "\n"
     ]
    },
    {
     "name": "stdout",
     "output_type": "stream",
     "text": [
      "\u001b[1m30/30\u001b[0m \u001b[32m━━━━━━━━━━━━━━━━━━━━\u001b[0m\u001b[37m\u001b[0m \u001b[1m10s\u001b[0m 124ms/step - loss: 0.0200 - val_loss: 0.0022\n",
      "Epoch 2/50\n",
      "\u001b[1m30/30\u001b[0m \u001b[32m━━━━━━━━━━━━━━━━━━━━\u001b[0m\u001b[37m\u001b[0m \u001b[1m4s\u001b[0m 133ms/step - loss: 6.0106e-04 - val_loss: 7.2951e-04\n",
      "Epoch 3/50\n",
      "\u001b[1m30/30\u001b[0m \u001b[32m━━━━━━━━━━━━━━━━━━━━\u001b[0m\u001b[37m\u001b[0m \u001b[1m3s\u001b[0m 108ms/step - loss: 2.7588e-04 - val_loss: 7.2587e-04\n",
      "Epoch 4/50\n",
      "\u001b[1m30/30\u001b[0m \u001b[32m━━━━━━━━━━━━━━━━━━━━\u001b[0m\u001b[37m\u001b[0m \u001b[1m3s\u001b[0m 94ms/step - loss: 1.9658e-04 - val_loss: 6.3854e-04\n",
      "Epoch 5/50\n",
      "\u001b[1m30/30\u001b[0m \u001b[32m━━━━━━━━━━━━━━━━━━━━\u001b[0m\u001b[37m\u001b[0m \u001b[1m3s\u001b[0m 93ms/step - loss: 1.4167e-04 - val_loss: 5.9277e-04\n",
      "Epoch 6/50\n",
      "\u001b[1m30/30\u001b[0m \u001b[32m━━━━━━━━━━━━━━━━━━━━\u001b[0m\u001b[37m\u001b[0m \u001b[1m3s\u001b[0m 94ms/step - loss: 1.4464e-04 - val_loss: 5.9103e-04\n",
      "Epoch 7/50\n",
      "\u001b[1m30/30\u001b[0m \u001b[32m━━━━━━━━━━━━━━━━━━━━\u001b[0m\u001b[37m\u001b[0m \u001b[1m3s\u001b[0m 86ms/step - loss: 1.9914e-04 - val_loss: 6.6175e-04\n",
      "Epoch 8/50\n",
      "\u001b[1m30/30\u001b[0m \u001b[32m━━━━━━━━━━━━━━━━━━━━\u001b[0m\u001b[37m\u001b[0m \u001b[1m3s\u001b[0m 86ms/step - loss: 1.9414e-04 - val_loss: 7.9331e-04\n",
      "Epoch 9/50\n",
      "\u001b[1m30/30\u001b[0m \u001b[32m━━━━━━━━━━━━━━━━━━━━\u001b[0m\u001b[37m\u001b[0m \u001b[1m3s\u001b[0m 86ms/step - loss: 1.8380e-04 - val_loss: 5.5174e-04\n",
      "Epoch 10/50\n",
      "\u001b[1m30/30\u001b[0m \u001b[32m━━━━━━━━━━━━━━━━━━━━\u001b[0m\u001b[37m\u001b[0m \u001b[1m3s\u001b[0m 90ms/step - loss: 1.8969e-04 - val_loss: 6.5727e-04\n",
      "Epoch 11/50\n",
      "\u001b[1m30/30\u001b[0m \u001b[32m━━━━━━━━━━━━━━━━━━━━\u001b[0m\u001b[37m\u001b[0m \u001b[1m3s\u001b[0m 87ms/step - loss: 2.1071e-04 - val_loss: 9.1514e-04\n",
      "Epoch 12/50\n",
      "\u001b[1m30/30\u001b[0m \u001b[32m━━━━━━━━━━━━━━━━━━━━\u001b[0m\u001b[37m\u001b[0m \u001b[1m3s\u001b[0m 87ms/step - loss: 1.6360e-04 - val_loss: 0.0012\n",
      "Epoch 13/50\n",
      "\u001b[1m30/30\u001b[0m \u001b[32m━━━━━━━━━━━━━━━━━━━━\u001b[0m\u001b[37m\u001b[0m \u001b[1m3s\u001b[0m 87ms/step - loss: 2.7027e-04 - val_loss: 5.9999e-04\n",
      "Epoch 14/50\n",
      "\u001b[1m30/30\u001b[0m \u001b[32m━━━━━━━━━━━━━━━━━━━━\u001b[0m\u001b[37m\u001b[0m \u001b[1m3s\u001b[0m 88ms/step - loss: 1.6624e-04 - val_loss: 5.4489e-04\n",
      "Epoch 15/50\n",
      "\u001b[1m30/30\u001b[0m \u001b[32m━━━━━━━━━━━━━━━━━━━━\u001b[0m\u001b[37m\u001b[0m \u001b[1m3s\u001b[0m 92ms/step - loss: 1.6344e-04 - val_loss: 6.3973e-04\n",
      "Epoch 16/50\n",
      "\u001b[1m30/30\u001b[0m \u001b[32m━━━━━━━━━━━━━━━━━━━━\u001b[0m\u001b[37m\u001b[0m \u001b[1m3s\u001b[0m 88ms/step - loss: 3.0187e-04 - val_loss: 5.8093e-04\n",
      "Epoch 17/50\n",
      "\u001b[1m30/30\u001b[0m \u001b[32m━━━━━━━━━━━━━━━━━━━━\u001b[0m\u001b[37m\u001b[0m \u001b[1m3s\u001b[0m 88ms/step - loss: 1.4292e-04 - val_loss: 5.3752e-04\n",
      "Epoch 18/50\n",
      "\u001b[1m30/30\u001b[0m \u001b[32m━━━━━━━━━━━━━━━━━━━━\u001b[0m\u001b[37m\u001b[0m \u001b[1m3s\u001b[0m 95ms/step - loss: 1.4464e-04 - val_loss: 6.6021e-04\n",
      "Epoch 19/50\n",
      "\u001b[1m30/30\u001b[0m \u001b[32m━━━━━━━━━━━━━━━━━━━━\u001b[0m\u001b[37m\u001b[0m \u001b[1m3s\u001b[0m 96ms/step - loss: 2.1013e-04 - val_loss: 5.1218e-04\n",
      "Epoch 20/50\n",
      "\u001b[1m30/30\u001b[0m \u001b[32m━━━━━━━━━━━━━━━━━━━━\u001b[0m\u001b[37m\u001b[0m \u001b[1m5s\u001b[0m 85ms/step - loss: 2.6858e-04 - val_loss: 7.4116e-04\n",
      "Epoch 21/50\n",
      "\u001b[1m30/30\u001b[0m \u001b[32m━━━━━━━━━━━━━━━━━━━━\u001b[0m\u001b[37m\u001b[0m \u001b[1m3s\u001b[0m 86ms/step - loss: 1.7588e-04 - val_loss: 5.2511e-04\n",
      "Epoch 22/50\n",
      "\u001b[1m30/30\u001b[0m \u001b[32m━━━━━━━━━━━━━━━━━━━━\u001b[0m\u001b[37m\u001b[0m \u001b[1m4s\u001b[0m 134ms/step - loss: 1.0628e-04 - val_loss: 4.9454e-04\n",
      "Epoch 23/50\n",
      "\u001b[1m30/30\u001b[0m \u001b[32m━━━━━━━━━━━━━━━━━━━━\u001b[0m\u001b[37m\u001b[0m \u001b[1m6s\u001b[0m 175ms/step - loss: 1.7243e-04 - val_loss: 5.1244e-04\n",
      "Epoch 24/50\n",
      "\u001b[1m30/30\u001b[0m \u001b[32m━━━━━━━━━━━━━━━━━━━━\u001b[0m\u001b[37m\u001b[0m \u001b[1m6s\u001b[0m 194ms/step - loss: 1.1986e-04 - val_loss: 5.4428e-04\n",
      "Epoch 25/50\n",
      "\u001b[1m30/30\u001b[0m \u001b[32m━━━━━━━━━━━━━━━━━━━━\u001b[0m\u001b[37m\u001b[0m \u001b[1m5s\u001b[0m 172ms/step - loss: 1.6776e-04 - val_loss: 6.7241e-04\n",
      "Epoch 26/50\n",
      "\u001b[1m30/30\u001b[0m \u001b[32m━━━━━━━━━━━━━━━━━━━━\u001b[0m\u001b[37m\u001b[0m \u001b[1m6s\u001b[0m 206ms/step - loss: 3.1145e-04 - val_loss: 4.7729e-04\n",
      "Epoch 27/50\n",
      "\u001b[1m30/30\u001b[0m \u001b[32m━━━━━━━━━━━━━━━━━━━━\u001b[0m\u001b[37m\u001b[0m \u001b[1m6s\u001b[0m 182ms/step - loss: 1.8963e-04 - val_loss: 5.2316e-04\n",
      "Epoch 28/50\n",
      "\u001b[1m30/30\u001b[0m \u001b[32m━━━━━━━━━━━━━━━━━━━━\u001b[0m\u001b[37m\u001b[0m \u001b[1m4s\u001b[0m 139ms/step - loss: 1.2589e-04 - val_loss: 8.6854e-04\n",
      "Epoch 29/50\n",
      "\u001b[1m30/30\u001b[0m \u001b[32m━━━━━━━━━━━━━━━━━━━━\u001b[0m\u001b[37m\u001b[0m \u001b[1m4s\u001b[0m 136ms/step - loss: 1.4878e-04 - val_loss: 4.4432e-04\n",
      "Epoch 30/50\n",
      "\u001b[1m30/30\u001b[0m \u001b[32m━━━━━━━━━━━━━━━━━━━━\u001b[0m\u001b[37m\u001b[0m \u001b[1m5s\u001b[0m 165ms/step - loss: 1.4403e-04 - val_loss: 4.4147e-04\n",
      "Epoch 31/50\n",
      "\u001b[1m30/30\u001b[0m \u001b[32m━━━━━━━━━━━━━━━━━━━━\u001b[0m\u001b[37m\u001b[0m \u001b[1m4s\u001b[0m 136ms/step - loss: 1.2031e-04 - val_loss: 4.3875e-04\n",
      "Epoch 32/50\n",
      "\u001b[1m30/30\u001b[0m \u001b[32m━━━━━━━━━━━━━━━━━━━━\u001b[0m\u001b[37m\u001b[0m \u001b[1m6s\u001b[0m 189ms/step - loss: 9.3668e-05 - val_loss: 4.7489e-04\n",
      "Epoch 33/50\n",
      "\u001b[1m30/30\u001b[0m \u001b[32m━━━━━━━━━━━━━━━━━━━━\u001b[0m\u001b[37m\u001b[0m \u001b[1m8s\u001b[0m 100ms/step - loss: 2.1831e-04 - val_loss: 8.4452e-04\n",
      "Epoch 34/50\n",
      "\u001b[1m30/30\u001b[0m \u001b[32m━━━━━━━━━━━━━━━━━━━━\u001b[0m\u001b[37m\u001b[0m \u001b[1m3s\u001b[0m 111ms/step - loss: 2.4334e-04 - val_loss: 0.0010\n",
      "Epoch 35/50\n",
      "\u001b[1m30/30\u001b[0m \u001b[32m━━━━━━━━━━━━━━━━━━━━\u001b[0m\u001b[37m\u001b[0m \u001b[1m4s\u001b[0m 126ms/step - loss: 2.8237e-04 - val_loss: 7.3440e-04\n",
      "Epoch 36/50\n",
      "\u001b[1m30/30\u001b[0m \u001b[32m━━━━━━━━━━━━━━━━━━━━\u001b[0m\u001b[37m\u001b[0m \u001b[1m4s\u001b[0m 132ms/step - loss: 1.5743e-04 - val_loss: 4.2085e-04\n",
      "Epoch 37/50\n",
      "\u001b[1m30/30\u001b[0m \u001b[32m━━━━━━━━━━━━━━━━━━━━\u001b[0m\u001b[37m\u001b[0m \u001b[1m4s\u001b[0m 129ms/step - loss: 1.5085e-04 - val_loss: 4.3557e-04\n",
      "Epoch 38/50\n",
      "\u001b[1m30/30\u001b[0m \u001b[32m━━━━━━━━━━━━━━━━━━━━\u001b[0m\u001b[37m\u001b[0m \u001b[1m4s\u001b[0m 126ms/step - loss: 1.4093e-04 - val_loss: 4.3822e-04\n",
      "Epoch 39/50\n",
      "\u001b[1m30/30\u001b[0m \u001b[32m━━━━━━━━━━━━━━━━━━━━\u001b[0m\u001b[37m\u001b[0m \u001b[1m4s\u001b[0m 122ms/step - loss: 1.2336e-04 - val_loss: 4.2139e-04\n",
      "Epoch 40/50\n",
      "\u001b[1m30/30\u001b[0m \u001b[32m━━━━━━━━━━━━━━━━━━━━\u001b[0m\u001b[37m\u001b[0m \u001b[1m4s\u001b[0m 134ms/step - loss: 1.8144e-04 - val_loss: 6.2433e-04\n",
      "Epoch 41/50\n",
      "\u001b[1m30/30\u001b[0m \u001b[32m━━━━━━━━━━━━━━━━━━━━\u001b[0m\u001b[37m\u001b[0m \u001b[1m4s\u001b[0m 136ms/step - loss: 1.5700e-04 - val_loss: 6.5426e-04\n"
     ]
    }
   ],
   "source": [
    "import keras_tuner as kt  # or from keras_tuner import ... depending on version\n",
    "\n",
    "def build_model(hp):\n",
    "    model = Sequential()\n",
    "    model.add(Input(shape=(X_train.shape[1], 1)))\n",
    "    \n",
    "    model.add(LSTM(\n",
    "        units=hp.Int('units_1', min_value=50, max_value=200, step=50),\n",
    "        return_sequences=True\n",
    "    ))\n",
    "    \n",
    "    model.add(LSTM(\n",
    "        units=hp.Int('units_2', min_value=50, max_value=200, step=50)\n",
    "    ))\n",
    "    \n",
    "    model.add(Dense(1))\n",
    "    \n",
    "    lr = hp.Float('learning_rate', min_value=1e-4, max_value=1e-2, sampling='log')\n",
    "    model.compile(optimizer=Adam(learning_rate=lr), loss='mean_squared_error')\n",
    "    return model\n",
    "\n",
    "from kerastuner.tuners import RandomSearch\n",
    "\n",
    "tuner = RandomSearch(\n",
    "    build_model,\n",
    "    objective='val_loss',\n",
    "    max_trials=10,\n",
    "    executions_per_trial=1,\n",
    "    directory='keras_tuner_dir',\n",
    "    project_name='btcl_lstm_tuning'\n",
    ")\n",
    "\n",
    "early_stop = EarlyStopping(monitor='val_loss', patience=5)\n",
    "\n",
    "tuner.search(\n",
    "    X_train, y_train,\n",
    "    epochs=50,\n",
    "    batch_size=32,\n",
    "    validation_data=(X_test, y_test),\n",
    "    callbacks=[early_stop]\n",
    ")\n",
    "\n",
    "best_model = tuner.get_best_models(num_models=1)[0]\n",
    "best_hp = tuner.get_best_hyperparameters(1)[0]\n",
    "print(f\"Best hyperparameters: {best_hp.values}\")\n",
    "\n",
    "# Optionally retrain best model on the data\n",
    "history = best_model.fit(\n",
    "    X_train, y_train,\n",
    "    epochs=50,\n",
    "    batch_size=32,\n",
    "    validation_data=(X_test, y_test),\n",
    "    callbacks=[early_stop]\n",
    ")\n"
   ]
  },
  {
   "cell_type": "code",
   "execution_count": 14,
   "id": "57fa4168",
   "metadata": {},
   "outputs": [
    {
     "name": "stdout",
     "output_type": "stream",
     "text": [
      "\u001b[1m30/30\u001b[0m \u001b[32m━━━━━━━━━━━━━━━━━━━━\u001b[0m\u001b[37m\u001b[0m \u001b[1m4s\u001b[0m 99ms/step\n",
      "\u001b[1m8/8\u001b[0m \u001b[32m━━━━━━━━━━━━━━━━━━━━\u001b[0m\u001b[37m\u001b[0m \u001b[1m0s\u001b[0m 49ms/step\n",
      "          Date  Actual Price  Predicted Price\n",
      "0   2020-07-20        158.45       155.728241\n",
      "1   2020-07-21        158.45       155.728241\n",
      "2   2020-07-22        158.45       155.728241\n",
      "3   2020-07-23        158.45       155.728241\n",
      "4   2020-07-27        158.45       155.728241\n",
      "..         ...           ...              ...\n",
      "229 2025-04-21        570.00       558.825745\n",
      "230 2025-04-22        570.00       558.751587\n",
      "231 2025-04-23        570.00       558.647278\n",
      "232 2025-04-24        570.00       558.594421\n",
      "233 2025-04-25        570.00       558.579590\n",
      "\n",
      "[1170 rows x 3 columns]\n"
     ]
    },
    {
     "data": {
      "image/png": "[encoded data removed]",
      "text/plain": [
       "<Figure size 1400x600 with 1 Axes>"
      ]
     },
     "metadata": {},
     "output_type": "display_data"
    }
   ],
   "source": [
    "\n",
    "# After training the model, you can predict both on training and testing sets\n",
    "# Predict on training data (y_train)\n",
    "train_pred = best_model.predict(X_train)\n",
    "train_pred = scaler.inverse_transform(train_pred.reshape(-1, 1))\n",
    "\n",
    "test_pred = best_model.predict(X_test)\n",
    "test_pred = scaler.inverse_transform(test_pred.reshape(-1, 1))\n",
    "\n",
    "\n",
    "# Inverse scale the actual values for training and testing sets\n",
    "actual_train = scaler.inverse_transform(y_train.reshape(-1, 1))\n",
    "actual_test = scaler.inverse_transform(y_test.reshape(-1, 1))\n",
    "\n",
    "# Create dates for training and testing periods\n",
    "train_dates = daily_df['DateTime'].values[window_size:split+window_size]\n",
    "test_dates = daily_df['DateTime'].values[split+window_size:]\n",
    "\n",
    "# Combine training and testing results\n",
    "train_results = pd.DataFrame({\n",
    "    'Date': train_dates,\n",
    "    'Actual Price': actual_train.flatten(),\n",
    "    'Predicted Price': train_pred.flatten()\n",
    "})\n",
    "\n",
    "test_results = pd.DataFrame({\n",
    "    'Date': test_dates,\n",
    "    'Actual Price': actual_test.flatten(),\n",
    "    'Predicted Price': test_pred.flatten()\n",
    "})\n",
    "\n",
    "# Concatenate both\n",
    "full_results = pd.concat([train_results, test_results])\n",
    "\n",
    "# Display the combined result (actual vs predicted)\n",
    "print(full_results)\n",
    "\n",
    "# Plot the actual vs predicted prices using matplotlib\n",
    "plt.figure(figsize=(14,6))\n",
    "plt.plot(full_results['Date'], full_results['Actual Price'], label='Actual Price', color='blue')\n",
    "plt.plot(full_results['Date'], full_results['Predicted Price'], label='Predicted Price', linestyle='dashed', color='red')\n",
    "plt.title('BTCL Stock Price: Actual vs Predicted')\n",
    "plt.xlabel('Date')\n",
    "plt.ylabel('Price')\n",
    "plt.legend()\n",
    "plt.grid(True)\n",
    "plt.tight_layout()\n",
    "plt.show()"
   ]
  },
  {
   "cell_type": "code",
   "execution_count": 15,
   "id": "9118d131",
   "metadata": {},
   "outputs": [
    {
     "name": "stdout",
     "output_type": "stream",
     "text": [
      "Mean Squared Error (MSE): 479.1709\n",
      "Root Mean Squared Error (RMSE): 21.8900\n",
      "Mean Absolute Error (MAE): 15.4922\n",
      "R² Score: 0.9952\n"
     ]
    }
   ],
   "source": [
    "\n",
    "\n",
    "# Calculate evaluation metrics\n",
    "mse = mean_squared_error(full_results['Actual Price'], full_results['Predicted Price'])\n",
    "rmse = np.sqrt(mse)\n",
    "mae = mean_absolute_error(full_results['Actual Price'], full_results['Predicted Price'])\n",
    "r2 = r2_score(full_results['Actual Price'], full_results['Predicted Price'])\n",
    "\n",
    "\n",
    "# Print them\n",
    "print(f\"Mean Squared Error (MSE): {mse:.4f}\")\n",
    "print(f\"Root Mean Squared Error (RMSE): {rmse:.4f}\")\n",
    "print(f\"Mean Absolute Error (MAE): {mae:.4f}\")\n",
    "print(f\"R² Score: {r2:.4f}\")\n"
   ]
  },
  {
   "cell_type": "code",
   "execution_count": 17,
   "id": "38eed731",
   "metadata": {},
   "outputs": [
    {
     "data": {
      "image/png": "[encoded data removed]",
      "text/plain": [
       "<Figure size 1600x800 with 1 Axes>"
      ]
     },
     "metadata": {},
     "output_type": "display_data"
    }
   ],
   "source": [
    "\n",
    "# Fixed predict_future function\n",
    "def predict_future(model, data, days, scaler, window_size):\n",
    "    future_preds = []\n",
    "    last_sequence = data[-window_size:].reshape(1, window_size, 1)\n",
    "    for _ in range(days):\n",
    "        next_pred = model.predict(last_sequence, verbose=0)[0][0]  # Added verbose=0\n",
    "        future_preds.append(next_pred)\n",
    "        last_sequence = np.append(last_sequence[:, 1:, :], [[[next_pred]]], axis=1)\n",
    "    return scaler.inverse_transform(np.array(future_preds).reshape(-1, 1))\n",
    "\n",
    "# Generate future predictions\n",
    "future_days = 30\n",
    "future_pred = predict_future(best_model, scaled_prices, future_days, scaler, window_size)\n",
    "\n",
    "\n",
    "# Create future dates (check column name in daily_df)\n",
    "date_column = 'DateTime' if 'DateTime' in daily_df.columns else daily_df.columns[0]  # Fallback to first column\n",
    "last_date = pd.to_datetime(daily_df[date_column].iloc[-1])\n",
    "future_dates = pd.date_range(start=last_date + pd.Timedelta(days=1), periods=future_days)\n",
    "\n",
    "future_df = pd.DataFrame({\n",
    "    'Date': future_dates,\n",
    "    'Predicted_Price': future_pred.flatten()\n",
    "})\n",
    "\n",
    "# Plot with column name checks\n",
    "plt.figure(figsize=(16, 8))\n",
    "\n",
    "# Plot actual prices\n",
    "plt.plot(pd.to_datetime(daily_df[date_column]), \n",
    "         daily_df['BTCL'], \n",
    "         label='Actual Price', color='blue')\n",
    "\n",
    "# Check and plot train results if available\n",
    "if 'train_results' in locals():\n",
    "    train_date_col = 'DateTime' if 'DateTime' in train_results.columns else train_results.columns[0]\n",
    "    plt.plot(pd.to_datetime(train_results[train_date_col]), \n",
    "             train_results['Predicted Price'], \n",
    "             label='Train Prediction', color='green')\n",
    "\n",
    "# Check and plot test results if available\n",
    "if 'test_results' in locals():\n",
    "    test_date_col = 'DateTime' if 'DateTime' in test_results.columns else test_results.columns[0]\n",
    "    plt.plot(pd.to_datetime(test_results[test_date_col]), \n",
    "             test_results['Predicted Price'], \n",
    "             label='Test Prediction', linestyle='--', color='red')\n",
    "\n",
    "# Plot future predictions\n",
    "plt.plot(future_df['Date'], \n",
    "         future_df['Predicted_Price'], \n",
    "         label='Future Prediction', linestyle=':', color='orange')\n",
    "\n",
    "plt.title('BTCL Price Prediction (Historical and Future)')\n",
    "plt.xlabel('Date')\n",
    "plt.ylabel('Price')\n",
    "plt.legend()\n",
    "plt.grid(True)\n",
    "plt.xticks(rotation=45)  # Rotate dates for better readability\n",
    "plt.tight_layout()\n",
    "plt.show()"
   ]
  },
  {
   "cell_type": "code",
   "execution_count": 18,
   "id": "70efae1b",
   "metadata": {},
   "outputs": [
    {
     "name": "stdout",
     "output_type": "stream",
     "text": [
      "\n",
      "Final Portfolio Value: 100,266.38\n",
      "Total Return: 0.27%\n"
     ]
    },
    {
     "data": {
      "image/png": "[encoded data removed]",
      "text/plain": [
       "<Figure size 1400x600 with 1 Axes>"
      ]
     },
     "metadata": {},
     "output_type": "display_data"
    },
    {
     "data": {
      "image/png": "[encoded data removed]",
      "text/plain": [
       "<Figure size 1400x600 with 1 Axes>"
      ]
     },
     "metadata": {},
     "output_type": "display_data"
    }
   ],
   "source": [
    "# Drop rows with missing values in either column\n",
    "filtered_df = full_results.dropna(subset=['Actual Price', 'Predicted Price'])\n",
    "\n",
    "# Step 1: Generate Buy/Sell Signals\n",
    "filtered_df['Signal'] = 0  # 0 = Hold\n",
    "filtered_df.loc[filtered_df['Predicted Price'] > filtered_df['Actual Price'], 'Signal'] = 1  # Buy\n",
    "filtered_df.loc[filtered_df['Predicted Price'] < filtered_df['Actual Price'], 'Signal'] = -1 # Sell\n",
    "\n",
    "# Step 2: Simulate Trading - Simple Backtest\n",
    "initial_capital = 100000  # Starting with 100,000 units of currency\n",
    "position = 0  # Number of shares held\n",
    "cash = initial_capital\n",
    "portfolio_values = []  # To track daily portfolio value\n",
    "\n",
    "# Assume you buy/sell one unit each time a signal triggers\n",
    "for i in range(len(filtered_df)):\n",
    "    price = filtered_df.iloc[i]['Actual Price']\n",
    "    signal = filtered_df.iloc[i]['Signal']\n",
    "\n",
    "    if signal == 1:  # Buy\n",
    "        if cash >= price:\n",
    "            position += 1\n",
    "            cash -= price\n",
    "    elif signal == -1:  # Sell\n",
    "        if position > 0:\n",
    "            position -= 1\n",
    "            cash += price\n",
    "    \n",
    "    # Portfolio = cash + (current price * shares held)\n",
    "    total_value = cash + position * price\n",
    "    portfolio_values.append(total_value)\n",
    "\n",
    "# Add portfolio values to the DataFrame\n",
    "filtered_df['Portfolio Value'] = portfolio_values\n",
    "\n",
    "# Step 3: Calculate Returns\n",
    "filtered_df['Daily Return (%)'] = filtered_df['Portfolio Value'].pct_change() * 100\n",
    "total_return = (filtered_df['Portfolio Value'].iloc[-1] - initial_capital) / initial_capital * 100\n",
    "\n",
    "# Print Summary\n",
    "print(f\"\\nFinal Portfolio Value: {filtered_df['Portfolio Value'].iloc[-1]:,.2f}\")\n",
    "print(f\"Total Return: {total_return:.2f}%\")\n",
    "\n",
    "# Step 4: Plot Portfolio Value Over Time\n",
    "plt.figure(figsize=(14,6))\n",
    "plt.plot(filtered_df['Date'], filtered_df['Portfolio Value'], color='purple')\n",
    "plt.title('Portfolio Value Over Time (Backtest)')\n",
    "plt.xlabel('Date')\n",
    "plt.ylabel('Portfolio Value')\n",
    "plt.grid(True)\n",
    "plt.tight_layout()\n",
    "plt.show()\n",
    "\n",
    "# Optional: Plot Buy/Sell Signals\n",
    "plt.figure(figsize=(14,6))\n",
    "plt.plot(filtered_df['Date'], filtered_df['Actual Price'], label='Actual Price')\n",
    "plt.plot(filtered_df['Date'], filtered_df['Predicted Price'], label='Predicted Price', linestyle='dashed')\n",
    "plt.scatter(filtered_df[filtered_df['Signal'] == 1]['Date'], \n",
    "            filtered_df[filtered_df['Signal'] == 1]['Actual Price'], \n",
    "            label='Buy Signal', marker='^', color='green', s=100)\n",
    "plt.scatter(filtered_df[filtered_df['Signal'] == -1]['Date'], \n",
    "            filtered_df[filtered_df['Signal'] == -1]['Actual Price'], \n",
    "            label='Sell Signal', marker='v', color='red', s=100)\n",
    "plt.title('Buy/Sell Signals Based on LSTM Predictions')\n",
    "plt.xlabel('Date')\n",
    "plt.ylabel('Price')\n",
    "plt.legend()\n",
    "plt.grid(True)\n",
    "plt.tight_layout()\n",
    "plt.show()\n"
   ]
  }
 ],
 "metadata": {
  "kernelspec": {
   "display_name": "r-tensorflow",
   "language": "python",
   "name": "python3"
  },
  "language_info": {
   "codemirror_mode": {
    "name": "ipython",
    "version": 3
   },
   "file_extension": ".py",
   "mimetype": "text/x-python",
   "name": "python",
   "nbconvert_exporter": "python",
   "pygments_lexer": "ipython3",
   "version": "3.11.11"
  }
 },
 "nbformat": 4,
 "nbformat_minor": 5
}
